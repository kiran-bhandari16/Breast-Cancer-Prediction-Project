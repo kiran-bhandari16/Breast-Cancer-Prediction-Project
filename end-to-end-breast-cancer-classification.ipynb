{
  "nbformat": 4,
  "nbformat_minor": 5,
  "metadata": {
    "kernelspec": {
      "display_name": "Python 3",
      "language": "python",
      "name": "python3"
    },
    "language_info": {
      "codemirror_mode": {
        "name": "ipython",
        "version": 3
      },
      "file_extension": ".py",
      "mimetype": "text/x-python",
      "name": "python",
      "nbconvert_exporter": "python",
      "pygments_lexer": "ipython3",
      "version": "3.8.5"
    },
    "colab": {
      "name": "end-to-end-breast-cancer-classification.ipynb",
      "provenance": [],
      "toc_visible": true
    }
  },
  "cells": [
    {
      "cell_type": "markdown",
      "metadata": {
        "id": "VEkoYnJwXLe1"
      },
      "source": [
        "# Predicting breast cancer using machine learning \n",
        "\n",
        "This notebook looks into using various Python-based machine learning and data science libraries in an attempt to build a  machine learning model capable of predicting whether or not someone has breast cancer based on their medical attributes. \n",
        "\n",
        "\n"
      ],
      "id": "VEkoYnJwXLe1"
    },
    {
      "cell_type": "markdown",
      "metadata": {
        "id": "yTW0zGGzXLfB"
      },
      "source": [
        "## Preparing the tools\n",
        "\n",
        "We are going to use pandas, matplotlib, numpy for data analysis and manipulation"
      ],
      "id": "yTW0zGGzXLfB"
    },
    {
      "cell_type": "code",
      "metadata": {
        "colab": {
          "resources": {
            "http://localhost:8080/nbextensions/google.colab/files.js": {
              "data": "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",
              "ok": true,
              "headers": [
                [
                  "content-type",
                  "application/javascript"
                ]
              ],
              "status": 200,
              "status_text": ""
            }
          },
          "base_uri": "https://localhost:8080/",
          "height": 73
        },
        "id": "EbEEQh7JXa5Y",
        "outputId": "10fefe40-99cf-40b0-df87-52f9b7f76602"
      },
      "source": [
        "from google.colab import files\n",
        "uploaded = files.upload()"
      ],
      "id": "EbEEQh7JXa5Y",
      "execution_count": 2,
      "outputs": [
        {
          "output_type": "display_data",
          "data": {
            "text/html": [
              "\n",
              "     <input type=\"file\" id=\"files-67117ab9-7a78-4d97-b06b-d334862c7724\" name=\"files[]\" multiple disabled\n",
              "        style=\"border:none\" />\n",
              "     <output id=\"result-67117ab9-7a78-4d97-b06b-d334862c7724\">\n",
              "      Upload widget is only available when the cell has been executed in the\n",
              "      current browser session. Please rerun this cell to enable.\n",
              "      </output>\n",
              "      <script src=\"/nbextensions/google.colab/files.js\"></script> "
            ],
            "text/plain": [
              "<IPython.core.display.HTML object>"
            ]
          },
          "metadata": {
            "tags": []
          }
        },
        {
          "output_type": "stream",
          "text": [
            "Saving Breast-data.csv to Breast-data.csv\n"
          ],
          "name": "stdout"
        }
      ]
    },
    {
      "cell_type": "code",
      "metadata": {
        "id": "5M4jHe2OXLfB"
      },
      "source": [
        "import numpy as np\n",
        "import pandas as pd\n",
        "import matplotlib.pyplot as plt\n",
        "import seaborn as sns\n",
        "\n",
        "# For plot to appear inside the notebook\n",
        "%matplotlib inline\n",
        "\n",
        "#Models from Scikit-learn\n",
        "from sklearn.linear_model import LogisticRegression\n",
        "from sklearn.neighbors import KNeighborsClassifier\n",
        "from sklearn.ensemble import RandomForestClassifier\n",
        "from sklearn.naive_bayes import GaussianNB\n",
        "\n",
        "\n",
        "#Model Evaluations \n",
        "from sklearn.model_selection import train_test_split, cross_val_score\n",
        "from sklearn.model_selection import RandomizedSearchCV, GridSearchCV\n",
        "from sklearn.metrics import confusion_matrix, classification_report \n",
        "from sklearn.metrics import precision_score, recall_score, f1_score, accuracy_score\n",
        "from sklearn.metrics import plot_roc_curve\n"
      ],
      "id": "5M4jHe2OXLfB",
      "execution_count": 3,
      "outputs": []
    },
    {
      "cell_type": "markdown",
      "metadata": {
        "id": "-yKZqNguXLfC"
      },
      "source": [
        "## LOAD DATA"
      ],
      "id": "-yKZqNguXLfC"
    },
    {
      "cell_type": "code",
      "metadata": {
        "colab": {
          "base_uri": "https://localhost:8080/"
        },
        "id": "irYKT9VQXLfC",
        "outputId": "0e26826a-25ac-4e5c-ef8a-f7e26b153569"
      },
      "source": [
        "import io\n",
        "df = pd.read_csv(io.BytesIO(uploaded['Breast-data.csv']))\n",
        "# Dataset is now stored in a Pandas Dataframe\n",
        "df.shape #(rows, columns)"
      ],
      "id": "irYKT9VQXLfC",
      "execution_count": 7,
      "outputs": [
        {
          "output_type": "execute_result",
          "data": {
            "text/plain": [
              "(698, 11)"
            ]
          },
          "metadata": {
            "tags": []
          },
          "execution_count": 7
        }
      ]
    },
    {
      "cell_type": "markdown",
      "metadata": {
        "id": "HxwxiMyBXLfD"
      },
      "source": [
        "# Data Exploration (exploratory data analysis or EDA)\n",
        "\n",
        "The goal here is to find out more about the data and become a subject matter expert on the dataset you working with.\n",
        "\n",
        "1. What question(s) are you trying to solve ? \n",
        "2. What kind of data do we have and how do we treat different types ? \n",
        "3. What's missing from the data and how to deal with it ?\n",
        "4. Where are the outliers and why should we care about them ? [In statistics, an outlier is a data point that differs significantly from other observations] \n",
        "5. How can you add, change or remove features to get more out of your data ? "
      ],
      "id": "HxwxiMyBXLfD"
    },
    {
      "cell_type": "code",
      "metadata": {
        "colab": {
          "base_uri": "https://localhost:8080/",
          "height": 229
        },
        "id": "drMZrxskXLfE",
        "outputId": "65aea8da-6aa0-42a8-a707-17bdeb72ab60"
      },
      "source": [
        "df.head()"
      ],
      "id": "drMZrxskXLfE",
      "execution_count": 8,
      "outputs": [
        {
          "output_type": "execute_result",
          "data": {
            "text/html": [
              "<div>\n",
              "<style scoped>\n",
              "    .dataframe tbody tr th:only-of-type {\n",
              "        vertical-align: middle;\n",
              "    }\n",
              "\n",
              "    .dataframe tbody tr th {\n",
              "        vertical-align: top;\n",
              "    }\n",
              "\n",
              "    .dataframe thead th {\n",
              "        text-align: right;\n",
              "    }\n",
              "</style>\n",
              "<table border=\"1\" class=\"dataframe\">\n",
              "  <thead>\n",
              "    <tr style=\"text-align: right;\">\n",
              "      <th></th>\n",
              "      <th>Sample Code Number</th>\n",
              "      <th>Clump Thickness</th>\n",
              "      <th>Uniformility of cell size</th>\n",
              "      <th>Uniformility of cell shape</th>\n",
              "      <th>Marginal Adhesion</th>\n",
              "      <th>Single Epithelial Cell</th>\n",
              "      <th>Bare Nuclei</th>\n",
              "      <th>Bland chromation</th>\n",
              "      <th>Normal Nucleoli</th>\n",
              "      <th>Mitoses</th>\n",
              "      <th>Class</th>\n",
              "    </tr>\n",
              "  </thead>\n",
              "  <tbody>\n",
              "    <tr>\n",
              "      <th>0</th>\n",
              "      <td>1002945</td>\n",
              "      <td>5</td>\n",
              "      <td>4</td>\n",
              "      <td>4</td>\n",
              "      <td>5</td>\n",
              "      <td>7</td>\n",
              "      <td>10</td>\n",
              "      <td>3</td>\n",
              "      <td>2</td>\n",
              "      <td>1</td>\n",
              "      <td>0</td>\n",
              "    </tr>\n",
              "    <tr>\n",
              "      <th>1</th>\n",
              "      <td>1015425</td>\n",
              "      <td>3</td>\n",
              "      <td>1</td>\n",
              "      <td>1</td>\n",
              "      <td>1</td>\n",
              "      <td>2</td>\n",
              "      <td>2</td>\n",
              "      <td>3</td>\n",
              "      <td>1</td>\n",
              "      <td>1</td>\n",
              "      <td>0</td>\n",
              "    </tr>\n",
              "    <tr>\n",
              "      <th>2</th>\n",
              "      <td>1016277</td>\n",
              "      <td>6</td>\n",
              "      <td>8</td>\n",
              "      <td>8</td>\n",
              "      <td>1</td>\n",
              "      <td>3</td>\n",
              "      <td>4</td>\n",
              "      <td>3</td>\n",
              "      <td>7</td>\n",
              "      <td>1</td>\n",
              "      <td>0</td>\n",
              "    </tr>\n",
              "    <tr>\n",
              "      <th>3</th>\n",
              "      <td>1017023</td>\n",
              "      <td>4</td>\n",
              "      <td>1</td>\n",
              "      <td>1</td>\n",
              "      <td>3</td>\n",
              "      <td>2</td>\n",
              "      <td>1</td>\n",
              "      <td>3</td>\n",
              "      <td>1</td>\n",
              "      <td>1</td>\n",
              "      <td>0</td>\n",
              "    </tr>\n",
              "    <tr>\n",
              "      <th>4</th>\n",
              "      <td>1017122</td>\n",
              "      <td>8</td>\n",
              "      <td>10</td>\n",
              "      <td>10</td>\n",
              "      <td>8</td>\n",
              "      <td>7</td>\n",
              "      <td>10</td>\n",
              "      <td>9</td>\n",
              "      <td>7</td>\n",
              "      <td>1</td>\n",
              "      <td>1</td>\n",
              "    </tr>\n",
              "  </tbody>\n",
              "</table>\n",
              "</div>"
            ],
            "text/plain": [
              "   Sample Code Number  Clump Thickness  ...  Mitoses  Class\n",
              "0             1002945                5  ...        1      0\n",
              "1             1015425                3  ...        1      0\n",
              "2             1016277                6  ...        1      0\n",
              "3             1017023                4  ...        1      0\n",
              "4             1017122                8  ...        1      1\n",
              "\n",
              "[5 rows x 11 columns]"
            ]
          },
          "metadata": {
            "tags": []
          },
          "execution_count": 8
        }
      ]
    },
    {
      "cell_type": "code",
      "metadata": {
        "colab": {
          "base_uri": "https://localhost:8080/",
          "height": 229
        },
        "id": "7d3dlIAOXLfE",
        "outputId": "367ba04d-0ca1-4a79-b240-8c4b8068b823"
      },
      "source": [
        "df.tail()"
      ],
      "id": "7d3dlIAOXLfE",
      "execution_count": 9,
      "outputs": [
        {
          "output_type": "execute_result",
          "data": {
            "text/html": [
              "<div>\n",
              "<style scoped>\n",
              "    .dataframe tbody tr th:only-of-type {\n",
              "        vertical-align: middle;\n",
              "    }\n",
              "\n",
              "    .dataframe tbody tr th {\n",
              "        vertical-align: top;\n",
              "    }\n",
              "\n",
              "    .dataframe thead th {\n",
              "        text-align: right;\n",
              "    }\n",
              "</style>\n",
              "<table border=\"1\" class=\"dataframe\">\n",
              "  <thead>\n",
              "    <tr style=\"text-align: right;\">\n",
              "      <th></th>\n",
              "      <th>Sample Code Number</th>\n",
              "      <th>Clump Thickness</th>\n",
              "      <th>Uniformility of cell size</th>\n",
              "      <th>Uniformility of cell shape</th>\n",
              "      <th>Marginal Adhesion</th>\n",
              "      <th>Single Epithelial Cell</th>\n",
              "      <th>Bare Nuclei</th>\n",
              "      <th>Bland chromation</th>\n",
              "      <th>Normal Nucleoli</th>\n",
              "      <th>Mitoses</th>\n",
              "      <th>Class</th>\n",
              "    </tr>\n",
              "  </thead>\n",
              "  <tbody>\n",
              "    <tr>\n",
              "      <th>693</th>\n",
              "      <td>776715</td>\n",
              "      <td>3</td>\n",
              "      <td>1</td>\n",
              "      <td>1</td>\n",
              "      <td>1</td>\n",
              "      <td>3</td>\n",
              "      <td>2</td>\n",
              "      <td>1</td>\n",
              "      <td>1</td>\n",
              "      <td>1</td>\n",
              "      <td>0</td>\n",
              "    </tr>\n",
              "    <tr>\n",
              "      <th>694</th>\n",
              "      <td>841769</td>\n",
              "      <td>2</td>\n",
              "      <td>1</td>\n",
              "      <td>1</td>\n",
              "      <td>1</td>\n",
              "      <td>2</td>\n",
              "      <td>1</td>\n",
              "      <td>1</td>\n",
              "      <td>1</td>\n",
              "      <td>1</td>\n",
              "      <td>0</td>\n",
              "    </tr>\n",
              "    <tr>\n",
              "      <th>695</th>\n",
              "      <td>888820</td>\n",
              "      <td>5</td>\n",
              "      <td>10</td>\n",
              "      <td>10</td>\n",
              "      <td>3</td>\n",
              "      <td>7</td>\n",
              "      <td>3</td>\n",
              "      <td>8</td>\n",
              "      <td>10</td>\n",
              "      <td>2</td>\n",
              "      <td>1</td>\n",
              "    </tr>\n",
              "    <tr>\n",
              "      <th>696</th>\n",
              "      <td>897471</td>\n",
              "      <td>4</td>\n",
              "      <td>8</td>\n",
              "      <td>6</td>\n",
              "      <td>4</td>\n",
              "      <td>3</td>\n",
              "      <td>4</td>\n",
              "      <td>10</td>\n",
              "      <td>6</td>\n",
              "      <td>1</td>\n",
              "      <td>1</td>\n",
              "    </tr>\n",
              "    <tr>\n",
              "      <th>697</th>\n",
              "      <td>897471</td>\n",
              "      <td>4</td>\n",
              "      <td>8</td>\n",
              "      <td>8</td>\n",
              "      <td>5</td>\n",
              "      <td>4</td>\n",
              "      <td>5</td>\n",
              "      <td>10</td>\n",
              "      <td>4</td>\n",
              "      <td>1</td>\n",
              "      <td>1</td>\n",
              "    </tr>\n",
              "  </tbody>\n",
              "</table>\n",
              "</div>"
            ],
            "text/plain": [
              "     Sample Code Number  Clump Thickness  ...  Mitoses  Class\n",
              "693              776715                3  ...        1      0\n",
              "694              841769                2  ...        1      0\n",
              "695              888820                5  ...        2      1\n",
              "696              897471                4  ...        1      1\n",
              "697              897471                4  ...        1      1\n",
              "\n",
              "[5 rows x 11 columns]"
            ]
          },
          "metadata": {
            "tags": []
          },
          "execution_count": 9
        }
      ]
    },
    {
      "cell_type": "code",
      "metadata": {
        "colab": {
          "base_uri": "https://localhost:8080/"
        },
        "id": "ACfOzbkkXLfE",
        "outputId": "d7e235dc-655e-46a2-ebae-56772a17a693"
      },
      "source": [
        "## Finding out how many of each class are there \n",
        "\n",
        "df[\"Class\"].value_counts()"
      ],
      "id": "ACfOzbkkXLfE",
      "execution_count": 10,
      "outputs": [
        {
          "output_type": "execute_result",
          "data": {
            "text/plain": [
              "0    457\n",
              "1    241\n",
              "Name: Class, dtype: int64"
            ]
          },
          "metadata": {
            "tags": []
          },
          "execution_count": 10
        }
      ]
    },
    {
      "cell_type": "code",
      "metadata": {
        "colab": {
          "base_uri": "https://localhost:8080/",
          "height": 279
        },
        "id": "PYR5kSCjXLfF",
        "outputId": "a1b4e30c-e014-40a7-96e5-57c556e3a363"
      },
      "source": [
        "df[\"Class\"].value_counts().plot(kind=\"bar\", color=[\"salmon\",\"lightblue\"])"
      ],
      "id": "PYR5kSCjXLfF",
      "execution_count": 11,
      "outputs": [
        {
          "output_type": "execute_result",
          "data": {
            "text/plain": [
              "<matplotlib.axes._subplots.AxesSubplot at 0x7fc14dae6650>"
            ]
          },
          "metadata": {
            "tags": []
          },
          "execution_count": 11
        },
        {
          "output_type": "display_data",
          "data": {
            "image/png": "[encoded data removed]",
            "text/plain": [
              "<Figure size 432x288 with 1 Axes>"
            ]
          },
          "metadata": {
            "tags": [],
            "needs_background": "light"
          }
        }
      ]
    },
    {
      "cell_type": "code",
      "metadata": {
        "colab": {
          "base_uri": "https://localhost:8080/"
        },
        "id": "d-UN3iQvXLfF",
        "outputId": "67897472-98e9-490a-fb69-1d955f89d5ce"
      },
      "source": [
        "df.info()"
      ],
      "id": "d-UN3iQvXLfF",
      "execution_count": 12,
      "outputs": [
        {
          "output_type": "stream",
          "text": [
            "<class 'pandas.core.frame.DataFrame'>\n",
            "RangeIndex: 698 entries, 0 to 697\n",
            "Data columns (total 11 columns):\n",
            " #   Column                      Non-Null Count  Dtype\n",
            "---  ------                      --------------  -----\n",
            " 0   Sample Code Number          698 non-null    int64\n",
            " 1   Clump Thickness             698 non-null    int64\n",
            " 2   Uniformility of cell size   698 non-null    int64\n",
            " 3   Uniformility of cell shape  698 non-null    int64\n",
            " 4   Marginal Adhesion           698 non-null    int64\n",
            " 5   Single Epithelial Cell      698 non-null    int64\n",
            " 6   Bare Nuclei                 698 non-null    int64\n",
            " 7   Bland chromation            698 non-null    int64\n",
            " 8   Normal Nucleoli             698 non-null    int64\n",
            " 9   Mitoses                     698 non-null    int64\n",
            " 10  Class                       698 non-null    int64\n",
            "dtypes: int64(11)\n",
            "memory usage: 60.1 KB\n"
          ],
          "name": "stdout"
        }
      ]
    },
    {
      "cell_type": "code",
      "metadata": {
        "colab": {
          "base_uri": "https://localhost:8080/"
        },
        "id": "heNRpPqvXLfF",
        "outputId": "44e51732-6047-48c5-d3ed-42db43ddec7e"
      },
      "source": [
        "## Are there any missing values ? isna() or 'isnull()' function is used to detect missing values.\n",
        "\n",
        "df.isna().sum() "
      ],
      "id": "heNRpPqvXLfF",
      "execution_count": 13,
      "outputs": [
        {
          "output_type": "execute_result",
          "data": {
            "text/plain": [
              "Sample Code Number            0\n",
              "Clump Thickness               0\n",
              "Uniformility of cell size     0\n",
              "Uniformility of cell shape    0\n",
              "Marginal Adhesion             0\n",
              "Single Epithelial Cell        0\n",
              "Bare Nuclei                   0\n",
              "Bland chromation              0\n",
              "Normal Nucleoli               0\n",
              "Mitoses                       0\n",
              "Class                         0\n",
              "dtype: int64"
            ]
          },
          "metadata": {
            "tags": []
          },
          "execution_count": 13
        }
      ]
    },
    {
      "cell_type": "code",
      "metadata": {
        "colab": {
          "base_uri": "https://localhost:8080/",
          "height": 318
        },
        "id": "kzemtRA9XLfG",
        "outputId": "9c193af2-e66a-4562-9590-d996043cf9a0"
      },
      "source": [
        "df.describe()"
      ],
      "id": "kzemtRA9XLfG",
      "execution_count": 14,
      "outputs": [
        {
          "output_type": "execute_result",
          "data": {
            "text/html": [
              "<div>\n",
              "<style scoped>\n",
              "    .dataframe tbody tr th:only-of-type {\n",
              "        vertical-align: middle;\n",
              "    }\n",
              "\n",
              "    .dataframe tbody tr th {\n",
              "        vertical-align: top;\n",
              "    }\n",
              "\n",
              "    .dataframe thead th {\n",
              "        text-align: right;\n",
              "    }\n",
              "</style>\n",
              "<table border=\"1\" class=\"dataframe\">\n",
              "  <thead>\n",
              "    <tr style=\"text-align: right;\">\n",
              "      <th></th>\n",
              "      <th>Sample Code Number</th>\n",
              "      <th>Clump Thickness</th>\n",
              "      <th>Uniformility of cell size</th>\n",
              "      <th>Uniformility of cell shape</th>\n",
              "      <th>Marginal Adhesion</th>\n",
              "      <th>Single Epithelial Cell</th>\n",
              "      <th>Bare Nuclei</th>\n",
              "      <th>Bland chromation</th>\n",
              "      <th>Normal Nucleoli</th>\n",
              "      <th>Mitoses</th>\n",
              "      <th>Class</th>\n",
              "    </tr>\n",
              "  </thead>\n",
              "  <tbody>\n",
              "    <tr>\n",
              "      <th>count</th>\n",
              "      <td>6.980000e+02</td>\n",
              "      <td>698.000000</td>\n",
              "      <td>698.000000</td>\n",
              "      <td>698.000000</td>\n",
              "      <td>698.000000</td>\n",
              "      <td>698.000000</td>\n",
              "      <td>698.000000</td>\n",
              "      <td>698.000000</td>\n",
              "      <td>698.000000</td>\n",
              "      <td>698.000000</td>\n",
              "      <td>698.000000</td>\n",
              "    </tr>\n",
              "    <tr>\n",
              "      <th>mean</th>\n",
              "      <td>1.071807e+06</td>\n",
              "      <td>4.416905</td>\n",
              "      <td>3.137536</td>\n",
              "      <td>3.210602</td>\n",
              "      <td>2.809456</td>\n",
              "      <td>3.217765</td>\n",
              "      <td>3.510029</td>\n",
              "      <td>3.438395</td>\n",
              "      <td>2.869628</td>\n",
              "      <td>1.590258</td>\n",
              "      <td>0.345272</td>\n",
              "    </tr>\n",
              "    <tr>\n",
              "      <th>std</th>\n",
              "      <td>6.175323e+05</td>\n",
              "      <td>2.817673</td>\n",
              "      <td>3.052575</td>\n",
              "      <td>2.972867</td>\n",
              "      <td>2.856606</td>\n",
              "      <td>2.215408</td>\n",
              "      <td>3.614579</td>\n",
              "      <td>2.440056</td>\n",
              "      <td>3.055004</td>\n",
              "      <td>1.716162</td>\n",
              "      <td>0.475798</td>\n",
              "    </tr>\n",
              "    <tr>\n",
              "      <th>min</th>\n",
              "      <td>6.163400e+04</td>\n",
              "      <td>1.000000</td>\n",
              "      <td>1.000000</td>\n",
              "      <td>1.000000</td>\n",
              "      <td>1.000000</td>\n",
              "      <td>1.000000</td>\n",
              "      <td>1.000000</td>\n",
              "      <td>1.000000</td>\n",
              "      <td>1.000000</td>\n",
              "      <td>1.000000</td>\n",
              "      <td>0.000000</td>\n",
              "    </tr>\n",
              "    <tr>\n",
              "      <th>25%</th>\n",
              "      <td>8.702582e+05</td>\n",
              "      <td>2.000000</td>\n",
              "      <td>1.000000</td>\n",
              "      <td>1.000000</td>\n",
              "      <td>1.000000</td>\n",
              "      <td>2.000000</td>\n",
              "      <td>1.000000</td>\n",
              "      <td>2.000000</td>\n",
              "      <td>1.000000</td>\n",
              "      <td>1.000000</td>\n",
              "      <td>0.000000</td>\n",
              "    </tr>\n",
              "    <tr>\n",
              "      <th>50%</th>\n",
              "      <td>1.171710e+06</td>\n",
              "      <td>4.000000</td>\n",
              "      <td>1.000000</td>\n",
              "      <td>1.000000</td>\n",
              "      <td>1.000000</td>\n",
              "      <td>2.000000</td>\n",
              "      <td>1.000000</td>\n",
              "      <td>3.000000</td>\n",
              "      <td>1.000000</td>\n",
              "      <td>1.000000</td>\n",
              "      <td>0.000000</td>\n",
              "    </tr>\n",
              "    <tr>\n",
              "      <th>75%</th>\n",
              "      <td>1.238354e+06</td>\n",
              "      <td>6.000000</td>\n",
              "      <td>5.000000</td>\n",
              "      <td>5.000000</td>\n",
              "      <td>4.000000</td>\n",
              "      <td>4.000000</td>\n",
              "      <td>5.000000</td>\n",
              "      <td>5.000000</td>\n",
              "      <td>4.000000</td>\n",
              "      <td>1.000000</td>\n",
              "      <td>1.000000</td>\n",
              "    </tr>\n",
              "    <tr>\n",
              "      <th>max</th>\n",
              "      <td>1.345435e+07</td>\n",
              "      <td>10.000000</td>\n",
              "      <td>10.000000</td>\n",
              "      <td>10.000000</td>\n",
              "      <td>10.000000</td>\n",
              "      <td>10.000000</td>\n",
              "      <td>10.000000</td>\n",
              "      <td>10.000000</td>\n",
              "      <td>10.000000</td>\n",
              "      <td>10.000000</td>\n",
              "      <td>1.000000</td>\n",
              "    </tr>\n",
              "  </tbody>\n",
              "</table>\n",
              "</div>"
            ],
            "text/plain": [
              "       Sample Code Number  Clump Thickness  ...     Mitoses       Class\n",
              "count        6.980000e+02       698.000000  ...  698.000000  698.000000\n",
              "mean         1.071807e+06         4.416905  ...    1.590258    0.345272\n",
              "std          6.175323e+05         2.817673  ...    1.716162    0.475798\n",
              "min          6.163400e+04         1.000000  ...    1.000000    0.000000\n",
              "25%          8.702582e+05         2.000000  ...    1.000000    0.000000\n",
              "50%          1.171710e+06         4.000000  ...    1.000000    0.000000\n",
              "75%          1.238354e+06         6.000000  ...    1.000000    1.000000\n",
              "max          1.345435e+07        10.000000  ...   10.000000    1.000000\n",
              "\n",
              "[8 rows x 11 columns]"
            ]
          },
          "metadata": {
            "tags": []
          },
          "execution_count": 14
        }
      ]
    },
    {
      "cell_type": "markdown",
      "metadata": {
        "id": "dbd--TGsXLfG"
      },
      "source": [
        "## Breast Cancer Frequency according to Clump Thickness"
      ],
      "id": "dbd--TGsXLfG"
    },
    {
      "cell_type": "code",
      "metadata": {
        "colab": {
          "base_uri": "https://localhost:8080/",
          "height": 318
        },
        "id": "p4s1X0ycXLfG",
        "outputId": "0489c0ef-cf6d-49b6-aadb-4e3d7210ab83"
      },
      "source": [
        "df.head(8)"
      ],
      "id": "p4s1X0ycXLfG",
      "execution_count": 15,
      "outputs": [
        {
          "output_type": "execute_result",
          "data": {
            "text/html": [
              "<div>\n",
              "<style scoped>\n",
              "    .dataframe tbody tr th:only-of-type {\n",
              "        vertical-align: middle;\n",
              "    }\n",
              "\n",
              "    .dataframe tbody tr th {\n",
              "        vertical-align: top;\n",
              "    }\n",
              "\n",
              "    .dataframe thead th {\n",
              "        text-align: right;\n",
              "    }\n",
              "</style>\n",
              "<table border=\"1\" class=\"dataframe\">\n",
              "  <thead>\n",
              "    <tr style=\"text-align: right;\">\n",
              "      <th></th>\n",
              "      <th>Sample Code Number</th>\n",
              "      <th>Clump Thickness</th>\n",
              "      <th>Uniformility of cell size</th>\n",
              "      <th>Uniformility of cell shape</th>\n",
              "      <th>Marginal Adhesion</th>\n",
              "      <th>Single Epithelial Cell</th>\n",
              "      <th>Bare Nuclei</th>\n",
              "      <th>Bland chromation</th>\n",
              "      <th>Normal Nucleoli</th>\n",
              "      <th>Mitoses</th>\n",
              "      <th>Class</th>\n",
              "    </tr>\n",
              "  </thead>\n",
              "  <tbody>\n",
              "    <tr>\n",
              "      <th>0</th>\n",
              "      <td>1002945</td>\n",
              "      <td>5</td>\n",
              "      <td>4</td>\n",
              "      <td>4</td>\n",
              "      <td>5</td>\n",
              "      <td>7</td>\n",
              "      <td>10</td>\n",
              "      <td>3</td>\n",
              "      <td>2</td>\n",
              "      <td>1</td>\n",
              "      <td>0</td>\n",
              "    </tr>\n",
              "    <tr>\n",
              "      <th>1</th>\n",
              "      <td>1015425</td>\n",
              "      <td>3</td>\n",
              "      <td>1</td>\n",
              "      <td>1</td>\n",
              "      <td>1</td>\n",
              "      <td>2</td>\n",
              "      <td>2</td>\n",
              "      <td>3</td>\n",
              "      <td>1</td>\n",
              "      <td>1</td>\n",
              "      <td>0</td>\n",
              "    </tr>\n",
              "    <tr>\n",
              "      <th>2</th>\n",
              "      <td>1016277</td>\n",
              "      <td>6</td>\n",
              "      <td>8</td>\n",
              "      <td>8</td>\n",
              "      <td>1</td>\n",
              "      <td>3</td>\n",
              "      <td>4</td>\n",
              "      <td>3</td>\n",
              "      <td>7</td>\n",
              "      <td>1</td>\n",
              "      <td>0</td>\n",
              "    </tr>\n",
              "    <tr>\n",
              "      <th>3</th>\n",
              "      <td>1017023</td>\n",
              "      <td>4</td>\n",
              "      <td>1</td>\n",
              "      <td>1</td>\n",
              "      <td>3</td>\n",
              "      <td>2</td>\n",
              "      <td>1</td>\n",
              "      <td>3</td>\n",
              "      <td>1</td>\n",
              "      <td>1</td>\n",
              "      <td>0</td>\n",
              "    </tr>\n",
              "    <tr>\n",
              "      <th>4</th>\n",
              "      <td>1017122</td>\n",
              "      <td>8</td>\n",
              "      <td>10</td>\n",
              "      <td>10</td>\n",
              "      <td>8</td>\n",
              "      <td>7</td>\n",
              "      <td>10</td>\n",
              "      <td>9</td>\n",
              "      <td>7</td>\n",
              "      <td>1</td>\n",
              "      <td>1</td>\n",
              "    </tr>\n",
              "    <tr>\n",
              "      <th>5</th>\n",
              "      <td>1018099</td>\n",
              "      <td>1</td>\n",
              "      <td>1</td>\n",
              "      <td>1</td>\n",
              "      <td>1</td>\n",
              "      <td>2</td>\n",
              "      <td>10</td>\n",
              "      <td>3</td>\n",
              "      <td>1</td>\n",
              "      <td>1</td>\n",
              "      <td>0</td>\n",
              "    </tr>\n",
              "    <tr>\n",
              "      <th>6</th>\n",
              "      <td>1018561</td>\n",
              "      <td>2</td>\n",
              "      <td>1</td>\n",
              "      <td>2</td>\n",
              "      <td>1</td>\n",
              "      <td>2</td>\n",
              "      <td>1</td>\n",
              "      <td>3</td>\n",
              "      <td>1</td>\n",
              "      <td>1</td>\n",
              "      <td>0</td>\n",
              "    </tr>\n",
              "    <tr>\n",
              "      <th>7</th>\n",
              "      <td>1033078</td>\n",
              "      <td>2</td>\n",
              "      <td>1</td>\n",
              "      <td>1</td>\n",
              "      <td>1</td>\n",
              "      <td>2</td>\n",
              "      <td>1</td>\n",
              "      <td>1</td>\n",
              "      <td>1</td>\n",
              "      <td>5</td>\n",
              "      <td>0</td>\n",
              "    </tr>\n",
              "  </tbody>\n",
              "</table>\n",
              "</div>"
            ],
            "text/plain": [
              "   Sample Code Number  Clump Thickness  ...  Mitoses  Class\n",
              "0             1002945                5  ...        1      0\n",
              "1             1015425                3  ...        1      0\n",
              "2             1016277                6  ...        1      0\n",
              "3             1017023                4  ...        1      0\n",
              "4             1017122                8  ...        1      1\n",
              "5             1018099                1  ...        1      0\n",
              "6             1018561                2  ...        1      0\n",
              "7             1033078                2  ...        5      0\n",
              "\n",
              "[8 rows x 11 columns]"
            ]
          },
          "metadata": {
            "tags": []
          },
          "execution_count": 15
        }
      ]
    },
    {
      "cell_type": "code",
      "metadata": {
        "scrolled": true,
        "colab": {
          "base_uri": "https://localhost:8080/"
        },
        "id": "qNm-jSFvXLfG",
        "outputId": "7ee8b454-d798-407b-cd71-2e0f0fbad05f"
      },
      "source": [
        "df[\"Clump Thickness\"].value_counts()"
      ],
      "id": "qNm-jSFvXLfG",
      "execution_count": 16,
      "outputs": [
        {
          "output_type": "execute_result",
          "data": {
            "text/plain": [
              "1     145\n",
              "5     129\n",
              "3     108\n",
              "4      80\n",
              "10     69\n",
              "2      50\n",
              "8      46\n",
              "6      34\n",
              "7      23\n",
              "9      14\n",
              "Name: Clump Thickness, dtype: int64"
            ]
          },
          "metadata": {
            "tags": []
          },
          "execution_count": 16
        }
      ]
    },
    {
      "cell_type": "code",
      "metadata": {
        "colab": {
          "base_uri": "https://localhost:8080/",
          "height": 136
        },
        "id": "Y0oNSqhlXLfH",
        "outputId": "ede35933-22b9-4b5b-b4f1-55c414616e0b"
      },
      "source": [
        "## Compare Class column with Clump Thickness \n",
        "\n",
        "pd.crosstab(df.Class, df[\"Clump Thickness\"])"
      ],
      "id": "Y0oNSqhlXLfH",
      "execution_count": 17,
      "outputs": [
        {
          "output_type": "execute_result",
          "data": {
            "text/html": [
              "<div>\n",
              "<style scoped>\n",
              "    .dataframe tbody tr th:only-of-type {\n",
              "        vertical-align: middle;\n",
              "    }\n",
              "\n",
              "    .dataframe tbody tr th {\n",
              "        vertical-align: top;\n",
              "    }\n",
              "\n",
              "    .dataframe thead th {\n",
              "        text-align: right;\n",
              "    }\n",
              "</style>\n",
              "<table border=\"1\" class=\"dataframe\">\n",
              "  <thead>\n",
              "    <tr style=\"text-align: right;\">\n",
              "      <th>Clump Thickness</th>\n",
              "      <th>1</th>\n",
              "      <th>2</th>\n",
              "      <th>3</th>\n",
              "      <th>4</th>\n",
              "      <th>5</th>\n",
              "      <th>6</th>\n",
              "      <th>7</th>\n",
              "      <th>8</th>\n",
              "      <th>9</th>\n",
              "      <th>10</th>\n",
              "    </tr>\n",
              "    <tr>\n",
              "      <th>Class</th>\n",
              "      <th></th>\n",
              "      <th></th>\n",
              "      <th></th>\n",
              "      <th></th>\n",
              "      <th></th>\n",
              "      <th></th>\n",
              "      <th></th>\n",
              "      <th></th>\n",
              "      <th></th>\n",
              "      <th></th>\n",
              "    </tr>\n",
              "  </thead>\n",
              "  <tbody>\n",
              "    <tr>\n",
              "      <th>0</th>\n",
              "      <td>142</td>\n",
              "      <td>46</td>\n",
              "      <td>96</td>\n",
              "      <td>66</td>\n",
              "      <td>83</td>\n",
              "      <td>16</td>\n",
              "      <td>2</td>\n",
              "      <td>5</td>\n",
              "      <td>0</td>\n",
              "      <td>1</td>\n",
              "    </tr>\n",
              "    <tr>\n",
              "      <th>1</th>\n",
              "      <td>3</td>\n",
              "      <td>4</td>\n",
              "      <td>12</td>\n",
              "      <td>14</td>\n",
              "      <td>46</td>\n",
              "      <td>18</td>\n",
              "      <td>21</td>\n",
              "      <td>41</td>\n",
              "      <td>14</td>\n",
              "      <td>68</td>\n",
              "    </tr>\n",
              "  </tbody>\n",
              "</table>\n",
              "</div>"
            ],
            "text/plain": [
              "Clump Thickness   1   2   3   4   5   6   7   8   9   10\n",
              "Class                                                   \n",
              "0                142  46  96  66  83  16   2   5   0   1\n",
              "1                  3   4  12  14  46  18  21  41  14  68"
            ]
          },
          "metadata": {
            "tags": []
          },
          "execution_count": 17
        }
      ]
    },
    {
      "cell_type": "code",
      "metadata": {
        "colab": {
          "base_uri": "https://localhost:8080/",
          "height": 530
        },
        "id": "hyqv_rIYXLfH",
        "outputId": "b6953988-a5fa-4541-ee58-08d6292dc818"
      },
      "source": [
        "## Create a plot of crosstab\n",
        "\n",
        "pd.crosstab(df[\"Class\"], df[\"Clump Thickness\"]).plot(kind=\"bar\",\n",
        "                                                     figsize=(12,8))\n",
        "\n",
        "plt.title(\"Breast Cancer Frequency with respect to Clump Thickness\")\n",
        "plt.xlabel(\"0 = No Breast Cancer, 1 = Breast Cancer\")\n",
        "plt.ylabel(\"Amount\")\n",
        "plt.xticks(rotation=0)"
      ],
      "id": "hyqv_rIYXLfH",
      "execution_count": 18,
      "outputs": [
        {
          "output_type": "execute_result",
          "data": {
            "text/plain": [
              "(array([0, 1]), <a list of 2 Text major ticklabel objects>)"
            ]
          },
          "metadata": {
            "tags": []
          },
          "execution_count": 18
        },
        {
          "output_type": "display_data",
          "data": {
            "image/png": "[encoded data removed]",
            "text/plain": [
              "<Figure size 864x576 with 1 Axes>"
            ]
          },
          "metadata": {
            "tags": [],
            "needs_background": "light"
          }
        }
      ]
    },
    {
      "cell_type": "code",
      "metadata": {
        "id": "Ryy_YmxsXLfH"
      },
      "source": [
        "## CREATING ANOTHER FIGURE "
      ],
      "id": "Ryy_YmxsXLfH",
      "execution_count": 19,
      "outputs": []
    },
    {
      "cell_type": "code",
      "metadata": {
        "colab": {
          "base_uri": "https://localhost:8080/",
          "height": 229
        },
        "id": "mXJuScb3XLfI",
        "outputId": "a2dc5457-f020-4760-a6df-e5ad2f1aecb7"
      },
      "source": [
        "df.head()"
      ],
      "id": "mXJuScb3XLfI",
      "execution_count": 20,
      "outputs": [
        {
          "output_type": "execute_result",
          "data": {
            "text/html": [
              "<div>\n",
              "<style scoped>\n",
              "    .dataframe tbody tr th:only-of-type {\n",
              "        vertical-align: middle;\n",
              "    }\n",
              "\n",
              "    .dataframe tbody tr th {\n",
              "        vertical-align: top;\n",
              "    }\n",
              "\n",
              "    .dataframe thead th {\n",
              "        text-align: right;\n",
              "    }\n",
              "</style>\n",
              "<table border=\"1\" class=\"dataframe\">\n",
              "  <thead>\n",
              "    <tr style=\"text-align: right;\">\n",
              "      <th></th>\n",
              "      <th>Sample Code Number</th>\n",
              "      <th>Clump Thickness</th>\n",
              "      <th>Uniformility of cell size</th>\n",
              "      <th>Uniformility of cell shape</th>\n",
              "      <th>Marginal Adhesion</th>\n",
              "      <th>Single Epithelial Cell</th>\n",
              "      <th>Bare Nuclei</th>\n",
              "      <th>Bland chromation</th>\n",
              "      <th>Normal Nucleoli</th>\n",
              "      <th>Mitoses</th>\n",
              "      <th>Class</th>\n",
              "    </tr>\n",
              "  </thead>\n",
              "  <tbody>\n",
              "    <tr>\n",
              "      <th>0</th>\n",
              "      <td>1002945</td>\n",
              "      <td>5</td>\n",
              "      <td>4</td>\n",
              "      <td>4</td>\n",
              "      <td>5</td>\n",
              "      <td>7</td>\n",
              "      <td>10</td>\n",
              "      <td>3</td>\n",
              "      <td>2</td>\n",
              "      <td>1</td>\n",
              "      <td>0</td>\n",
              "    </tr>\n",
              "    <tr>\n",
              "      <th>1</th>\n",
              "      <td>1015425</td>\n",
              "      <td>3</td>\n",
              "      <td>1</td>\n",
              "      <td>1</td>\n",
              "      <td>1</td>\n",
              "      <td>2</td>\n",
              "      <td>2</td>\n",
              "      <td>3</td>\n",
              "      <td>1</td>\n",
              "      <td>1</td>\n",
              "      <td>0</td>\n",
              "    </tr>\n",
              "    <tr>\n",
              "      <th>2</th>\n",
              "      <td>1016277</td>\n",
              "      <td>6</td>\n",
              "      <td>8</td>\n",
              "      <td>8</td>\n",
              "      <td>1</td>\n",
              "      <td>3</td>\n",
              "      <td>4</td>\n",
              "      <td>3</td>\n",
              "      <td>7</td>\n",
              "      <td>1</td>\n",
              "      <td>0</td>\n",
              "    </tr>\n",
              "    <tr>\n",
              "      <th>3</th>\n",
              "      <td>1017023</td>\n",
              "      <td>4</td>\n",
              "      <td>1</td>\n",
              "      <td>1</td>\n",
              "      <td>3</td>\n",
              "      <td>2</td>\n",
              "      <td>1</td>\n",
              "      <td>3</td>\n",
              "      <td>1</td>\n",
              "      <td>1</td>\n",
              "      <td>0</td>\n",
              "    </tr>\n",
              "    <tr>\n",
              "      <th>4</th>\n",
              "      <td>1017122</td>\n",
              "      <td>8</td>\n",
              "      <td>10</td>\n",
              "      <td>10</td>\n",
              "      <td>8</td>\n",
              "      <td>7</td>\n",
              "      <td>10</td>\n",
              "      <td>9</td>\n",
              "      <td>7</td>\n",
              "      <td>1</td>\n",
              "      <td>1</td>\n",
              "    </tr>\n",
              "  </tbody>\n",
              "</table>\n",
              "</div>"
            ],
            "text/plain": [
              "   Sample Code Number  Clump Thickness  ...  Mitoses  Class\n",
              "0             1002945                5  ...        1      0\n",
              "1             1015425                3  ...        1      0\n",
              "2             1016277                6  ...        1      0\n",
              "3             1017023                4  ...        1      0\n",
              "4             1017122                8  ...        1      1\n",
              "\n",
              "[5 rows x 11 columns]"
            ]
          },
          "metadata": {
            "tags": []
          },
          "execution_count": 20
        }
      ]
    },
    {
      "cell_type": "code",
      "metadata": {
        "colab": {
          "base_uri": "https://localhost:8080/"
        },
        "id": "OoCmKvjgXLfJ",
        "outputId": "791df6f9-d8c1-4462-d2f5-e1f4c3a13793"
      },
      "source": [
        "df[\"Uniformility of cell shape\"].value_counts()"
      ],
      "id": "OoCmKvjgXLfJ",
      "execution_count": 21,
      "outputs": [
        {
          "output_type": "execute_result",
          "data": {
            "text/plain": [
              "1     352\n",
              "2      59\n",
              "10     58\n",
              "3      56\n",
              "4      44\n",
              "5      34\n",
              "7      30\n",
              "6      30\n",
              "8      28\n",
              "9       7\n",
              "Name: Uniformility of cell shape, dtype: int64"
            ]
          },
          "metadata": {
            "tags": []
          },
          "execution_count": 21
        }
      ]
    },
    {
      "cell_type": "code",
      "metadata": {
        "colab": {
          "base_uri": "https://localhost:8080/"
        },
        "id": "Q1pjSk9dXLfJ",
        "outputId": "52a71334-a660-406d-8822-fc7e5e6facdf"
      },
      "source": [
        "df[\"Marginal Adhesion\"].value_counts()"
      ],
      "id": "Q1pjSk9dXLfJ",
      "execution_count": 22,
      "outputs": [
        {
          "output_type": "execute_result",
          "data": {
            "text/plain": [
              "1     406\n",
              "3      58\n",
              "2      58\n",
              "10     55\n",
              "4      33\n",
              "8      25\n",
              "5      23\n",
              "6      22\n",
              "7      13\n",
              "9       5\n",
              "Name: Marginal Adhesion, dtype: int64"
            ]
          },
          "metadata": {
            "tags": []
          },
          "execution_count": 22
        }
      ]
    },
    {
      "cell_type": "code",
      "metadata": {
        "colab": {
          "base_uri": "https://localhost:8080/",
          "height": 421
        },
        "id": "a-n-nbgWXLfJ",
        "outputId": "4d768d61-e88b-4bd4-d3cb-c97002de32b0"
      },
      "source": [
        "# Create another figure\n",
        "\n",
        "plt.figure(figsize=(10,6))\n",
        "\n",
        "# Scatter with positive example\n",
        "plt.scatter(df[\"Marginal Adhesion\"][df[\"Class\"]==1],\n",
        "            df[\"Uniformility of cell size\"][df[\"Class\"]==1],\n",
        "            color=[\"salmon\"])\n",
        "\n",
        "# Scatter with negative example \n",
        "plt.scatter(df[\"Marginal Adhesion\"][df[\"Class\"]==0],\n",
        "            df[\"Uniformility of cell size\"][df[\"Class\"]==0],\n",
        "            color=[\"lightblue\"]) \n",
        "\n",
        "plt.title(\"Breast Cancer in function of Marginal Adhesion and Unifomility of cell size\")\n",
        "plt.xlabel(\"Marginal Adhesion\")\n",
        "plt.ylabel(\"Max Uniformility of cell size\")\n",
        "plt.legend([\"Breast Cancer\",\"No Breast Cancer\"])\n"
      ],
      "id": "a-n-nbgWXLfJ",
      "execution_count": 23,
      "outputs": [
        {
          "output_type": "execute_result",
          "data": {
            "text/plain": [
              "<matplotlib.legend.Legend at 0x7fc16466dfd0>"
            ]
          },
          "metadata": {
            "tags": []
          },
          "execution_count": 23
        },
        {
          "output_type": "display_data",
          "data": {
            "image/png": "[encoded data removed]",
            "text/plain": [
              "<Figure size 720x432 with 1 Axes>"
            ]
          },
          "metadata": {
            "tags": [],
            "needs_background": "light"
          }
        }
      ]
    },
    {
      "cell_type": "code",
      "metadata": {
        "colab": {
          "base_uri": "https://localhost:8080/",
          "height": 282
        },
        "id": "-EU86SS0XLfJ",
        "outputId": "609bd1ef-cbae-429d-fe98-6b34755ce907"
      },
      "source": [
        "## Checking the distribution of Marginal Adhesion with the histogram\n",
        "\n",
        "df[\"Marginal Adhesion\"].plot.hist()"
      ],
      "id": "-EU86SS0XLfJ",
      "execution_count": 24,
      "outputs": [
        {
          "output_type": "execute_result",
          "data": {
            "text/plain": [
              "<matplotlib.axes._subplots.AxesSubplot at 0x7fc14ca1cb10>"
            ]
          },
          "metadata": {
            "tags": []
          },
          "execution_count": 24
        },
        {
          "output_type": "display_data",
          "data": {
            "image/png": "[encoded data removed]",
            "text/plain": [
              "<Figure size 432x288 with 1 Axes>"
            ]
          },
          "metadata": {
            "tags": [],
            "needs_background": "light"
          }
        }
      ]
    },
    {
      "cell_type": "code",
      "metadata": {
        "colab": {
          "base_uri": "https://localhost:8080/"
        },
        "id": "07r8f-orXLfK",
        "outputId": "b2f9aab4-de6e-443e-cc70-62e6653e9b4f"
      },
      "source": [
        "df[\"Normal Nucleoli\"].value_counts()"
      ],
      "id": "07r8f-orXLfK",
      "execution_count": 25,
      "outputs": [
        {
          "output_type": "execute_result",
          "data": {
            "text/plain": [
              "1     442\n",
              "10     61\n",
              "3      44\n",
              "2      36\n",
              "8      24\n",
              "6      22\n",
              "5      19\n",
              "4      18\n",
              "9      16\n",
              "7      16\n",
              "Name: Normal Nucleoli, dtype: int64"
            ]
          },
          "metadata": {
            "tags": []
          },
          "execution_count": 25
        }
      ]
    },
    {
      "cell_type": "code",
      "metadata": {
        "colab": {
          "base_uri": "https://localhost:8080/"
        },
        "id": "MAJvA-pnXLfK",
        "outputId": "94a21639-5ab3-48da-bc07-596719a759f6"
      },
      "source": [
        "df[\"Mitoses\"].value_counts()"
      ],
      "id": "MAJvA-pnXLfK",
      "execution_count": 26,
      "outputs": [
        {
          "output_type": "execute_result",
          "data": {
            "text/plain": [
              "1     578\n",
              "2      35\n",
              "3      33\n",
              "10     14\n",
              "4      12\n",
              "7       9\n",
              "8       8\n",
              "5       6\n",
              "6       3\n",
              "Name: Mitoses, dtype: int64"
            ]
          },
          "metadata": {
            "tags": []
          },
          "execution_count": 26
        }
      ]
    },
    {
      "cell_type": "code",
      "metadata": {
        "colab": {
          "base_uri": "https://localhost:8080/",
          "height": 421
        },
        "id": "ARsQ-DYbXLfK",
        "outputId": "7b93362f-30bc-4d1a-89e1-b7109b0b2795"
      },
      "source": [
        "## findind pattern between Normal Nucleoli and Mitoses.\n",
        "\n",
        "\n",
        "plt.figure(figsize=(10,6))\n",
        "\n",
        "##Scatter with postive \n",
        "plt.scatter(df[\"Normal Nucleoli\"][df[\"Class\"]==1],\n",
        "            df[\"Mitoses\"][df[\"Class\"]==1],\n",
        "            color=[\"red\"])\n",
        "\n",
        "##Scatter with negative\n",
        "plt.scatter(df[\"Normal Nucleoli\"][df[\"Class\"]==0],\n",
        "            df[\"Mitoses\"][df[\"Class\"]==0],\n",
        "            color=[\"blue\"])\n",
        "\n",
        "plt.title(\"Breast Cancer in function of Normal Nucleoli and Mitoses\")\n",
        "plt.xlabel(\"Normal Nucleoli\")\n",
        "plt.ylabel(\"Max Mitoses\")\n",
        "plt.legend([\"Breast Cancer\",\"No Breast Cancer\"])\n"
      ],
      "id": "ARsQ-DYbXLfK",
      "execution_count": 27,
      "outputs": [
        {
          "output_type": "execute_result",
          "data": {
            "text/plain": [
              "<matplotlib.legend.Legend at 0x7fc14c9160d0>"
            ]
          },
          "metadata": {
            "tags": []
          },
          "execution_count": 27
        },
        {
          "output_type": "display_data",
          "data": {
            "image/png": "[encoded data removed]",
            "text/plain": [
              "<Figure size 720x432 with 1 Axes>"
            ]
          },
          "metadata": {
            "tags": [],
            "needs_background": "light"
          }
        }
      ]
    },
    {
      "cell_type": "code",
      "metadata": {
        "colab": {
          "base_uri": "https://localhost:8080/",
          "height": 229
        },
        "id": "z11V1hz7XLfK",
        "outputId": "7050bb1d-9b3f-43a0-9f03-39d2ec2f76fe"
      },
      "source": [
        "df.head()"
      ],
      "id": "z11V1hz7XLfK",
      "execution_count": 28,
      "outputs": [
        {
          "output_type": "execute_result",
          "data": {
            "text/html": [
              "<div>\n",
              "<style scoped>\n",
              "    .dataframe tbody tr th:only-of-type {\n",
              "        vertical-align: middle;\n",
              "    }\n",
              "\n",
              "    .dataframe tbody tr th {\n",
              "        vertical-align: top;\n",
              "    }\n",
              "\n",
              "    .dataframe thead th {\n",
              "        text-align: right;\n",
              "    }\n",
              "</style>\n",
              "<table border=\"1\" class=\"dataframe\">\n",
              "  <thead>\n",
              "    <tr style=\"text-align: right;\">\n",
              "      <th></th>\n",
              "      <th>Sample Code Number</th>\n",
              "      <th>Clump Thickness</th>\n",
              "      <th>Uniformility of cell size</th>\n",
              "      <th>Uniformility of cell shape</th>\n",
              "      <th>Marginal Adhesion</th>\n",
              "      <th>Single Epithelial Cell</th>\n",
              "      <th>Bare Nuclei</th>\n",
              "      <th>Bland chromation</th>\n",
              "      <th>Normal Nucleoli</th>\n",
              "      <th>Mitoses</th>\n",
              "      <th>Class</th>\n",
              "    </tr>\n",
              "  </thead>\n",
              "  <tbody>\n",
              "    <tr>\n",
              "      <th>0</th>\n",
              "      <td>1002945</td>\n",
              "      <td>5</td>\n",
              "      <td>4</td>\n",
              "      <td>4</td>\n",
              "      <td>5</td>\n",
              "      <td>7</td>\n",
              "      <td>10</td>\n",
              "      <td>3</td>\n",
              "      <td>2</td>\n",
              "      <td>1</td>\n",
              "      <td>0</td>\n",
              "    </tr>\n",
              "    <tr>\n",
              "      <th>1</th>\n",
              "      <td>1015425</td>\n",
              "      <td>3</td>\n",
              "      <td>1</td>\n",
              "      <td>1</td>\n",
              "      <td>1</td>\n",
              "      <td>2</td>\n",
              "      <td>2</td>\n",
              "      <td>3</td>\n",
              "      <td>1</td>\n",
              "      <td>1</td>\n",
              "      <td>0</td>\n",
              "    </tr>\n",
              "    <tr>\n",
              "      <th>2</th>\n",
              "      <td>1016277</td>\n",
              "      <td>6</td>\n",
              "      <td>8</td>\n",
              "      <td>8</td>\n",
              "      <td>1</td>\n",
              "      <td>3</td>\n",
              "      <td>4</td>\n",
              "      <td>3</td>\n",
              "      <td>7</td>\n",
              "      <td>1</td>\n",
              "      <td>0</td>\n",
              "    </tr>\n",
              "    <tr>\n",
              "      <th>3</th>\n",
              "      <td>1017023</td>\n",
              "      <td>4</td>\n",
              "      <td>1</td>\n",
              "      <td>1</td>\n",
              "      <td>3</td>\n",
              "      <td>2</td>\n",
              "      <td>1</td>\n",
              "      <td>3</td>\n",
              "      <td>1</td>\n",
              "      <td>1</td>\n",
              "      <td>0</td>\n",
              "    </tr>\n",
              "    <tr>\n",
              "      <th>4</th>\n",
              "      <td>1017122</td>\n",
              "      <td>8</td>\n",
              "      <td>10</td>\n",
              "      <td>10</td>\n",
              "      <td>8</td>\n",
              "      <td>7</td>\n",
              "      <td>10</td>\n",
              "      <td>9</td>\n",
              "      <td>7</td>\n",
              "      <td>1</td>\n",
              "      <td>1</td>\n",
              "    </tr>\n",
              "  </tbody>\n",
              "</table>\n",
              "</div>"
            ],
            "text/plain": [
              "   Sample Code Number  Clump Thickness  ...  Mitoses  Class\n",
              "0             1002945                5  ...        1      0\n",
              "1             1015425                3  ...        1      0\n",
              "2             1016277                6  ...        1      0\n",
              "3             1017023                4  ...        1      0\n",
              "4             1017122                8  ...        1      1\n",
              "\n",
              "[5 rows x 11 columns]"
            ]
          },
          "metadata": {
            "tags": []
          },
          "execution_count": 28
        }
      ]
    },
    {
      "cell_type": "code",
      "metadata": {
        "colab": {
          "base_uri": "https://localhost:8080/",
          "height": 558
        },
        "id": "n28fpq-TXLfL",
        "outputId": "d5565ccd-9d0c-4084-ca1b-224daf896556"
      },
      "source": [
        "## Make correlation matrix \n",
        "\n",
        "df.corr()"
      ],
      "id": "n28fpq-TXLfL",
      "execution_count": 29,
      "outputs": [
        {
          "output_type": "execute_result",
          "data": {
            "text/html": [
              "<div>\n",
              "<style scoped>\n",
              "    .dataframe tbody tr th:only-of-type {\n",
              "        vertical-align: middle;\n",
              "    }\n",
              "\n",
              "    .dataframe tbody tr th {\n",
              "        vertical-align: top;\n",
              "    }\n",
              "\n",
              "    .dataframe thead th {\n",
              "        text-align: right;\n",
              "    }\n",
              "</style>\n",
              "<table border=\"1\" class=\"dataframe\">\n",
              "  <thead>\n",
              "    <tr style=\"text-align: right;\">\n",
              "      <th></th>\n",
              "      <th>Sample Code Number</th>\n",
              "      <th>Clump Thickness</th>\n",
              "      <th>Uniformility of cell size</th>\n",
              "      <th>Uniformility of cell shape</th>\n",
              "      <th>Marginal Adhesion</th>\n",
              "      <th>Single Epithelial Cell</th>\n",
              "      <th>Bare Nuclei</th>\n",
              "      <th>Bland chromation</th>\n",
              "      <th>Normal Nucleoli</th>\n",
              "      <th>Mitoses</th>\n",
              "      <th>Class</th>\n",
              "    </tr>\n",
              "  </thead>\n",
              "  <tbody>\n",
              "    <tr>\n",
              "      <th>Sample Code Number</th>\n",
              "      <td>1.000000</td>\n",
              "      <td>-0.055276</td>\n",
              "      <td>-0.041735</td>\n",
              "      <td>-0.041717</td>\n",
              "      <td>-0.065003</td>\n",
              "      <td>-0.045630</td>\n",
              "      <td>-0.095440</td>\n",
              "      <td>-0.060082</td>\n",
              "      <td>-0.052188</td>\n",
              "      <td>-0.034961</td>\n",
              "      <td>-0.065038</td>\n",
              "    </tr>\n",
              "    <tr>\n",
              "      <th>Clump Thickness</th>\n",
              "      <td>-0.055276</td>\n",
              "      <td>1.000000</td>\n",
              "      <td>0.645366</td>\n",
              "      <td>0.655089</td>\n",
              "      <td>0.486699</td>\n",
              "      <td>0.522108</td>\n",
              "      <td>0.588496</td>\n",
              "      <td>0.558511</td>\n",
              "      <td>0.536176</td>\n",
              "      <td>0.350176</td>\n",
              "      <td>0.703666</td>\n",
              "    </tr>\n",
              "    <tr>\n",
              "      <th>Uniformility of cell size</th>\n",
              "      <td>-0.041735</td>\n",
              "      <td>0.645366</td>\n",
              "      <td>1.000000</td>\n",
              "      <td>0.906814</td>\n",
              "      <td>0.705397</td>\n",
              "      <td>0.751674</td>\n",
              "      <td>0.686563</td>\n",
              "      <td>0.755824</td>\n",
              "      <td>0.722699</td>\n",
              "      <td>0.458548</td>\n",
              "      <td>0.795052</td>\n",
              "    </tr>\n",
              "    <tr>\n",
              "      <th>Uniformility of cell shape</th>\n",
              "      <td>-0.041717</td>\n",
              "      <td>0.655089</td>\n",
              "      <td>0.906814</td>\n",
              "      <td>1.000000</td>\n",
              "      <td>0.682871</td>\n",
              "      <td>0.719524</td>\n",
              "      <td>0.707773</td>\n",
              "      <td>0.736066</td>\n",
              "      <td>0.719272</td>\n",
              "      <td>0.438756</td>\n",
              "      <td>0.787350</td>\n",
              "    </tr>\n",
              "    <tr>\n",
              "      <th>Marginal Adhesion</th>\n",
              "      <td>-0.065003</td>\n",
              "      <td>0.486699</td>\n",
              "      <td>0.705397</td>\n",
              "      <td>0.682871</td>\n",
              "      <td>1.000000</td>\n",
              "      <td>0.599402</td>\n",
              "      <td>0.665965</td>\n",
              "      <td>0.666759</td>\n",
              "      <td>0.603132</td>\n",
              "      <td>0.417476</td>\n",
              "      <td>0.681827</td>\n",
              "    </tr>\n",
              "    <tr>\n",
              "      <th>Single Epithelial Cell</th>\n",
              "      <td>-0.045630</td>\n",
              "      <td>0.522108</td>\n",
              "      <td>0.751674</td>\n",
              "      <td>0.719524</td>\n",
              "      <td>0.599402</td>\n",
              "      <td>1.000000</td>\n",
              "      <td>0.582017</td>\n",
              "      <td>0.616108</td>\n",
              "      <td>0.628704</td>\n",
              "      <td>0.478975</td>\n",
              "      <td>0.663563</td>\n",
              "    </tr>\n",
              "    <tr>\n",
              "      <th>Bare Nuclei</th>\n",
              "      <td>-0.095440</td>\n",
              "      <td>0.588496</td>\n",
              "      <td>0.686563</td>\n",
              "      <td>0.707773</td>\n",
              "      <td>0.665965</td>\n",
              "      <td>0.582017</td>\n",
              "      <td>1.000000</td>\n",
              "      <td>0.674422</td>\n",
              "      <td>0.575108</td>\n",
              "      <td>0.341118</td>\n",
              "      <td>0.785082</td>\n",
              "    </tr>\n",
              "    <tr>\n",
              "      <th>Bland chromation</th>\n",
              "      <td>-0.060082</td>\n",
              "      <td>0.558511</td>\n",
              "      <td>0.755824</td>\n",
              "      <td>0.736066</td>\n",
              "      <td>0.666759</td>\n",
              "      <td>0.616108</td>\n",
              "      <td>0.674422</td>\n",
              "      <td>1.000000</td>\n",
              "      <td>0.665914</td>\n",
              "      <td>0.344118</td>\n",
              "      <td>0.728309</td>\n",
              "    </tr>\n",
              "    <tr>\n",
              "      <th>Normal Nucleoli</th>\n",
              "      <td>-0.052188</td>\n",
              "      <td>0.536176</td>\n",
              "      <td>0.722699</td>\n",
              "      <td>0.719272</td>\n",
              "      <td>0.603132</td>\n",
              "      <td>0.628704</td>\n",
              "      <td>0.575108</td>\n",
              "      <td>0.665914</td>\n",
              "      <td>1.000000</td>\n",
              "      <td>0.428185</td>\n",
              "      <td>0.699236</td>\n",
              "    </tr>\n",
              "    <tr>\n",
              "      <th>Mitoses</th>\n",
              "      <td>-0.034961</td>\n",
              "      <td>0.350176</td>\n",
              "      <td>0.458548</td>\n",
              "      <td>0.438756</td>\n",
              "      <td>0.417476</td>\n",
              "      <td>0.478975</td>\n",
              "      <td>0.341118</td>\n",
              "      <td>0.344118</td>\n",
              "      <td>0.428185</td>\n",
              "      <td>1.000000</td>\n",
              "      <td>0.412466</td>\n",
              "    </tr>\n",
              "    <tr>\n",
              "      <th>Class</th>\n",
              "      <td>-0.065038</td>\n",
              "      <td>0.703666</td>\n",
              "      <td>0.795052</td>\n",
              "      <td>0.787350</td>\n",
              "      <td>0.681827</td>\n",
              "      <td>0.663563</td>\n",
              "      <td>0.785082</td>\n",
              "      <td>0.728309</td>\n",
              "      <td>0.699236</td>\n",
              "      <td>0.412466</td>\n",
              "      <td>1.000000</td>\n",
              "    </tr>\n",
              "  </tbody>\n",
              "</table>\n",
              "</div>"
            ],
            "text/plain": [
              "                            Sample Code Number  ...     Class\n",
              "Sample Code Number                    1.000000  ... -0.065038\n",
              "Clump Thickness                      -0.055276  ...  0.703666\n",
              "Uniformility of cell size            -0.041735  ...  0.795052\n",
              "Uniformility of cell shape           -0.041717  ...  0.787350\n",
              "Marginal Adhesion                    -0.065003  ...  0.681827\n",
              "Single Epithelial Cell               -0.045630  ...  0.663563\n",
              "Bare Nuclei                          -0.095440  ...  0.785082\n",
              "Bland chromation                     -0.060082  ...  0.728309\n",
              "Normal Nucleoli                      -0.052188  ...  0.699236\n",
              "Mitoses                              -0.034961  ...  0.412466\n",
              "Class                                -0.065038  ...  1.000000\n",
              "\n",
              "[11 rows x 11 columns]"
            ]
          },
          "metadata": {
            "tags": []
          },
          "execution_count": 29
        }
      ]
    },
    {
      "cell_type": "code",
      "metadata": {
        "colab": {
          "base_uri": "https://localhost:8080/",
          "height": 710
        },
        "id": "9-QGW6-XXLfL",
        "outputId": "090a4ea6-c876-4863-8a26-70b6bf792bfd"
      },
      "source": [
        "## making correlation matrix more understable \n",
        "\n",
        "corr_matrix = df.corr()\n",
        "fig, ax = plt.subplots(figsize=(15,10))\n",
        "ax =  sns.heatmap(corr_matrix,\n",
        "                  annot=True,\n",
        "                  linewidth=0.5,\n",
        "                  fmt=\".2f\",\n",
        "                  cmap=\"YlGnBu\",);"
      ],
      "id": "9-QGW6-XXLfL",
      "execution_count": 30,
      "outputs": [
        {
          "output_type": "display_data",
          "data": {
            "image/png": "[encoded data removed]",
            "text/plain": [
              "<Figure size 1080x720 with 2 Axes>"
            ]
          },
          "metadata": {
            "tags": [],
            "needs_background": "light"
          }
        }
      ]
    },
    {
      "cell_type": "code",
      "metadata": {
        "colab": {
          "base_uri": "https://localhost:8080/"
        },
        "id": "TUdnJodxXLfL",
        "outputId": "4d65c78d-4fea-41af-bbb9-7f33146539cb"
      },
      "source": [
        "df[\"Mitoses\"].value_counts()"
      ],
      "id": "TUdnJodxXLfL",
      "execution_count": 31,
      "outputs": [
        {
          "output_type": "execute_result",
          "data": {
            "text/plain": [
              "1     578\n",
              "2      35\n",
              "3      33\n",
              "10     14\n",
              "4      12\n",
              "7       9\n",
              "8       8\n",
              "5       6\n",
              "6       3\n",
              "Name: Mitoses, dtype: int64"
            ]
          },
          "metadata": {
            "tags": []
          },
          "execution_count": 31
        }
      ]
    },
    {
      "cell_type": "code",
      "metadata": {
        "colab": {
          "base_uri": "https://localhost:8080/",
          "height": 401
        },
        "id": "4Hhhw4ePXLfL",
        "outputId": "c315503a-114c-46d8-89d6-8a6a5df3e7ec"
      },
      "source": [
        "pd.crosstab(df[\"Class\"],df[\"Mitoses\"]).plot(kind=\"bar\",\n",
        "                                            figsize=(10,6))"
      ],
      "id": "4Hhhw4ePXLfL",
      "execution_count": 32,
      "outputs": [
        {
          "output_type": "execute_result",
          "data": {
            "text/plain": [
              "<matplotlib.axes._subplots.AxesSubplot at 0x7fc143ef4610>"
            ]
          },
          "metadata": {
            "tags": []
          },
          "execution_count": 32
        },
        {
          "output_type": "display_data",
          "data": {
            "image/png": "[encoded data removed]",
            "text/plain": [
              "<Figure size 720x432 with 1 Axes>"
            ]
          },
          "metadata": {
            "tags": [],
            "needs_background": "light"
          }
        }
      ]
    },
    {
      "cell_type": "markdown",
      "metadata": {
        "id": "LALy8o0dXLfM"
      },
      "source": [
        "## MODELLING"
      ],
      "id": "LALy8o0dXLfM"
    },
    {
      "cell_type": "code",
      "metadata": {
        "colab": {
          "base_uri": "https://localhost:8080/",
          "height": 229
        },
        "id": "BsZtUPUHXLfM",
        "outputId": "1cab5140-43c5-40f4-bc29-71c7407570bc"
      },
      "source": [
        "df.head()"
      ],
      "id": "BsZtUPUHXLfM",
      "execution_count": 33,
      "outputs": [
        {
          "output_type": "execute_result",
          "data": {
            "text/html": [
              "<div>\n",
              "<style scoped>\n",
              "    .dataframe tbody tr th:only-of-type {\n",
              "        vertical-align: middle;\n",
              "    }\n",
              "\n",
              "    .dataframe tbody tr th {\n",
              "        vertical-align: top;\n",
              "    }\n",
              "\n",
              "    .dataframe thead th {\n",
              "        text-align: right;\n",
              "    }\n",
              "</style>\n",
              "<table border=\"1\" class=\"dataframe\">\n",
              "  <thead>\n",
              "    <tr style=\"text-align: right;\">\n",
              "      <th></th>\n",
              "      <th>Sample Code Number</th>\n",
              "      <th>Clump Thickness</th>\n",
              "      <th>Uniformility of cell size</th>\n",
              "      <th>Uniformility of cell shape</th>\n",
              "      <th>Marginal Adhesion</th>\n",
              "      <th>Single Epithelial Cell</th>\n",
              "      <th>Bare Nuclei</th>\n",
              "      <th>Bland chromation</th>\n",
              "      <th>Normal Nucleoli</th>\n",
              "      <th>Mitoses</th>\n",
              "      <th>Class</th>\n",
              "    </tr>\n",
              "  </thead>\n",
              "  <tbody>\n",
              "    <tr>\n",
              "      <th>0</th>\n",
              "      <td>1002945</td>\n",
              "      <td>5</td>\n",
              "      <td>4</td>\n",
              "      <td>4</td>\n",
              "      <td>5</td>\n",
              "      <td>7</td>\n",
              "      <td>10</td>\n",
              "      <td>3</td>\n",
              "      <td>2</td>\n",
              "      <td>1</td>\n",
              "      <td>0</td>\n",
              "    </tr>\n",
              "    <tr>\n",
              "      <th>1</th>\n",
              "      <td>1015425</td>\n",
              "      <td>3</td>\n",
              "      <td>1</td>\n",
              "      <td>1</td>\n",
              "      <td>1</td>\n",
              "      <td>2</td>\n",
              "      <td>2</td>\n",
              "      <td>3</td>\n",
              "      <td>1</td>\n",
              "      <td>1</td>\n",
              "      <td>0</td>\n",
              "    </tr>\n",
              "    <tr>\n",
              "      <th>2</th>\n",
              "      <td>1016277</td>\n",
              "      <td>6</td>\n",
              "      <td>8</td>\n",
              "      <td>8</td>\n",
              "      <td>1</td>\n",
              "      <td>3</td>\n",
              "      <td>4</td>\n",
              "      <td>3</td>\n",
              "      <td>7</td>\n",
              "      <td>1</td>\n",
              "      <td>0</td>\n",
              "    </tr>\n",
              "    <tr>\n",
              "      <th>3</th>\n",
              "      <td>1017023</td>\n",
              "      <td>4</td>\n",
              "      <td>1</td>\n",
              "      <td>1</td>\n",
              "      <td>3</td>\n",
              "      <td>2</td>\n",
              "      <td>1</td>\n",
              "      <td>3</td>\n",
              "      <td>1</td>\n",
              "      <td>1</td>\n",
              "      <td>0</td>\n",
              "    </tr>\n",
              "    <tr>\n",
              "      <th>4</th>\n",
              "      <td>1017122</td>\n",
              "      <td>8</td>\n",
              "      <td>10</td>\n",
              "      <td>10</td>\n",
              "      <td>8</td>\n",
              "      <td>7</td>\n",
              "      <td>10</td>\n",
              "      <td>9</td>\n",
              "      <td>7</td>\n",
              "      <td>1</td>\n",
              "      <td>1</td>\n",
              "    </tr>\n",
              "  </tbody>\n",
              "</table>\n",
              "</div>"
            ],
            "text/plain": [
              "   Sample Code Number  Clump Thickness  ...  Mitoses  Class\n",
              "0             1002945                5  ...        1      0\n",
              "1             1015425                3  ...        1      0\n",
              "2             1016277                6  ...        1      0\n",
              "3             1017023                4  ...        1      0\n",
              "4             1017122                8  ...        1      1\n",
              "\n",
              "[5 rows x 11 columns]"
            ]
          },
          "metadata": {
            "tags": []
          },
          "execution_count": 33
        }
      ]
    },
    {
      "cell_type": "code",
      "metadata": {
        "id": "P4SmpJ9FXLfM"
      },
      "source": [
        "# Split the data into X and y\n",
        "X = df.drop(\"Class\", axis=1)  ## axis = 0 (for index) and axis=1 (for column)\n",
        "y = df[\"Class\"]"
      ],
      "id": "P4SmpJ9FXLfM",
      "execution_count": 34,
      "outputs": []
    },
    {
      "cell_type": "code",
      "metadata": {
        "colab": {
          "base_uri": "https://localhost:8080/",
          "height": 418
        },
        "id": "1SWv7ASOXLfM",
        "outputId": "a96ee995-102c-4247-dd15-4bb4016a4325"
      },
      "source": [
        "X"
      ],
      "id": "1SWv7ASOXLfM",
      "execution_count": 35,
      "outputs": [
        {
          "output_type": "execute_result",
          "data": {
            "text/html": [
              "<div>\n",
              "<style scoped>\n",
              "    .dataframe tbody tr th:only-of-type {\n",
              "        vertical-align: middle;\n",
              "    }\n",
              "\n",
              "    .dataframe tbody tr th {\n",
              "        vertical-align: top;\n",
              "    }\n",
              "\n",
              "    .dataframe thead th {\n",
              "        text-align: right;\n",
              "    }\n",
              "</style>\n",
              "<table border=\"1\" class=\"dataframe\">\n",
              "  <thead>\n",
              "    <tr style=\"text-align: right;\">\n",
              "      <th></th>\n",
              "      <th>Sample Code Number</th>\n",
              "      <th>Clump Thickness</th>\n",
              "      <th>Uniformility of cell size</th>\n",
              "      <th>Uniformility of cell shape</th>\n",
              "      <th>Marginal Adhesion</th>\n",
              "      <th>Single Epithelial Cell</th>\n",
              "      <th>Bare Nuclei</th>\n",
              "      <th>Bland chromation</th>\n",
              "      <th>Normal Nucleoli</th>\n",
              "      <th>Mitoses</th>\n",
              "    </tr>\n",
              "  </thead>\n",
              "  <tbody>\n",
              "    <tr>\n",
              "      <th>0</th>\n",
              "      <td>1002945</td>\n",
              "      <td>5</td>\n",
              "      <td>4</td>\n",
              "      <td>4</td>\n",
              "      <td>5</td>\n",
              "      <td>7</td>\n",
              "      <td>10</td>\n",
              "      <td>3</td>\n",
              "      <td>2</td>\n",
              "      <td>1</td>\n",
              "    </tr>\n",
              "    <tr>\n",
              "      <th>1</th>\n",
              "      <td>1015425</td>\n",
              "      <td>3</td>\n",
              "      <td>1</td>\n",
              "      <td>1</td>\n",
              "      <td>1</td>\n",
              "      <td>2</td>\n",
              "      <td>2</td>\n",
              "      <td>3</td>\n",
              "      <td>1</td>\n",
              "      <td>1</td>\n",
              "    </tr>\n",
              "    <tr>\n",
              "      <th>2</th>\n",
              "      <td>1016277</td>\n",
              "      <td>6</td>\n",
              "      <td>8</td>\n",
              "      <td>8</td>\n",
              "      <td>1</td>\n",
              "      <td>3</td>\n",
              "      <td>4</td>\n",
              "      <td>3</td>\n",
              "      <td>7</td>\n",
              "      <td>1</td>\n",
              "    </tr>\n",
              "    <tr>\n",
              "      <th>3</th>\n",
              "      <td>1017023</td>\n",
              "      <td>4</td>\n",
              "      <td>1</td>\n",
              "      <td>1</td>\n",
              "      <td>3</td>\n",
              "      <td>2</td>\n",
              "      <td>1</td>\n",
              "      <td>3</td>\n",
              "      <td>1</td>\n",
              "      <td>1</td>\n",
              "    </tr>\n",
              "    <tr>\n",
              "      <th>4</th>\n",
              "      <td>1017122</td>\n",
              "      <td>8</td>\n",
              "      <td>10</td>\n",
              "      <td>10</td>\n",
              "      <td>8</td>\n",
              "      <td>7</td>\n",
              "      <td>10</td>\n",
              "      <td>9</td>\n",
              "      <td>7</td>\n",
              "      <td>1</td>\n",
              "    </tr>\n",
              "    <tr>\n",
              "      <th>...</th>\n",
              "      <td>...</td>\n",
              "      <td>...</td>\n",
              "      <td>...</td>\n",
              "      <td>...</td>\n",
              "      <td>...</td>\n",
              "      <td>...</td>\n",
              "      <td>...</td>\n",
              "      <td>...</td>\n",
              "      <td>...</td>\n",
              "      <td>...</td>\n",
              "    </tr>\n",
              "    <tr>\n",
              "      <th>693</th>\n",
              "      <td>776715</td>\n",
              "      <td>3</td>\n",
              "      <td>1</td>\n",
              "      <td>1</td>\n",
              "      <td>1</td>\n",
              "      <td>3</td>\n",
              "      <td>2</td>\n",
              "      <td>1</td>\n",
              "      <td>1</td>\n",
              "      <td>1</td>\n",
              "    </tr>\n",
              "    <tr>\n",
              "      <th>694</th>\n",
              "      <td>841769</td>\n",
              "      <td>2</td>\n",
              "      <td>1</td>\n",
              "      <td>1</td>\n",
              "      <td>1</td>\n",
              "      <td>2</td>\n",
              "      <td>1</td>\n",
              "      <td>1</td>\n",
              "      <td>1</td>\n",
              "      <td>1</td>\n",
              "    </tr>\n",
              "    <tr>\n",
              "      <th>695</th>\n",
              "      <td>888820</td>\n",
              "      <td>5</td>\n",
              "      <td>10</td>\n",
              "      <td>10</td>\n",
              "      <td>3</td>\n",
              "      <td>7</td>\n",
              "      <td>3</td>\n",
              "      <td>8</td>\n",
              "      <td>10</td>\n",
              "      <td>2</td>\n",
              "    </tr>\n",
              "    <tr>\n",
              "      <th>696</th>\n",
              "      <td>897471</td>\n",
              "      <td>4</td>\n",
              "      <td>8</td>\n",
              "      <td>6</td>\n",
              "      <td>4</td>\n",
              "      <td>3</td>\n",
              "      <td>4</td>\n",
              "      <td>10</td>\n",
              "      <td>6</td>\n",
              "      <td>1</td>\n",
              "    </tr>\n",
              "    <tr>\n",
              "      <th>697</th>\n",
              "      <td>897471</td>\n",
              "      <td>4</td>\n",
              "      <td>8</td>\n",
              "      <td>8</td>\n",
              "      <td>5</td>\n",
              "      <td>4</td>\n",
              "      <td>5</td>\n",
              "      <td>10</td>\n",
              "      <td>4</td>\n",
              "      <td>1</td>\n",
              "    </tr>\n",
              "  </tbody>\n",
              "</table>\n",
              "<p>698 rows × 10 columns</p>\n",
              "</div>"
            ],
            "text/plain": [
              "     Sample Code Number  Clump Thickness  ...  Normal Nucleoli  Mitoses\n",
              "0               1002945                5  ...                2        1\n",
              "1               1015425                3  ...                1        1\n",
              "2               1016277                6  ...                7        1\n",
              "3               1017023                4  ...                1        1\n",
              "4               1017122                8  ...                7        1\n",
              "..                  ...              ...  ...              ...      ...\n",
              "693              776715                3  ...                1        1\n",
              "694              841769                2  ...                1        1\n",
              "695              888820                5  ...               10        2\n",
              "696              897471                4  ...                6        1\n",
              "697              897471                4  ...                4        1\n",
              "\n",
              "[698 rows x 10 columns]"
            ]
          },
          "metadata": {
            "tags": []
          },
          "execution_count": 35
        }
      ]
    },
    {
      "cell_type": "code",
      "metadata": {
        "colab": {
          "base_uri": "https://localhost:8080/"
        },
        "id": "RkGAp3mmXLfM",
        "outputId": "1bc866f4-11d6-41fc-9d24-7dda018d8980"
      },
      "source": [
        "y"
      ],
      "id": "RkGAp3mmXLfM",
      "execution_count": 36,
      "outputs": [
        {
          "output_type": "execute_result",
          "data": {
            "text/plain": [
              "0      0\n",
              "1      0\n",
              "2      0\n",
              "3      0\n",
              "4      1\n",
              "      ..\n",
              "693    0\n",
              "694    0\n",
              "695    1\n",
              "696    1\n",
              "697    1\n",
              "Name: Class, Length: 698, dtype: int64"
            ]
          },
          "metadata": {
            "tags": []
          },
          "execution_count": 36
        }
      ]
    },
    {
      "cell_type": "code",
      "metadata": {
        "id": "HDy4BTZNXLfN"
      },
      "source": [
        "# Split data into train and  test sets\n",
        "np.random.seed(42)\n",
        "\n",
        "#Split into train and test sets\n",
        "X_train, X_test, y_train, y_test = train_test_split(X,\n",
        "                                                    y,\n",
        "                                                    test_size=0.2)"
      ],
      "id": "HDy4BTZNXLfN",
      "execution_count": 37,
      "outputs": []
    },
    {
      "cell_type": "code",
      "metadata": {
        "colab": {
          "base_uri": "https://localhost:8080/",
          "height": 418
        },
        "id": "_i4NgnFbXLfN",
        "outputId": "f309ed71-9da1-4785-bd3a-6739badd8a9b"
      },
      "source": [
        "X_train"
      ],
      "id": "_i4NgnFbXLfN",
      "execution_count": 38,
      "outputs": [
        {
          "output_type": "execute_result",
          "data": {
            "text/html": [
              "<div>\n",
              "<style scoped>\n",
              "    .dataframe tbody tr th:only-of-type {\n",
              "        vertical-align: middle;\n",
              "    }\n",
              "\n",
              "    .dataframe tbody tr th {\n",
              "        vertical-align: top;\n",
              "    }\n",
              "\n",
              "    .dataframe thead th {\n",
              "        text-align: right;\n",
              "    }\n",
              "</style>\n",
              "<table border=\"1\" class=\"dataframe\">\n",
              "  <thead>\n",
              "    <tr style=\"text-align: right;\">\n",
              "      <th></th>\n",
              "      <th>Sample Code Number</th>\n",
              "      <th>Clump Thickness</th>\n",
              "      <th>Uniformility of cell size</th>\n",
              "      <th>Uniformility of cell shape</th>\n",
              "      <th>Marginal Adhesion</th>\n",
              "      <th>Single Epithelial Cell</th>\n",
              "      <th>Bare Nuclei</th>\n",
              "      <th>Bland chromation</th>\n",
              "      <th>Normal Nucleoli</th>\n",
              "      <th>Mitoses</th>\n",
              "    </tr>\n",
              "  </thead>\n",
              "  <tbody>\n",
              "    <tr>\n",
              "      <th>82</th>\n",
              "      <td>1147044</td>\n",
              "      <td>3</td>\n",
              "      <td>1</td>\n",
              "      <td>1</td>\n",
              "      <td>1</td>\n",
              "      <td>2</td>\n",
              "      <td>2</td>\n",
              "      <td>7</td>\n",
              "      <td>1</td>\n",
              "      <td>1</td>\n",
              "    </tr>\n",
              "    <tr>\n",
              "      <th>51</th>\n",
              "      <td>1110102</td>\n",
              "      <td>10</td>\n",
              "      <td>3</td>\n",
              "      <td>6</td>\n",
              "      <td>2</td>\n",
              "      <td>3</td>\n",
              "      <td>5</td>\n",
              "      <td>4</td>\n",
              "      <td>10</td>\n",
              "      <td>2</td>\n",
              "    </tr>\n",
              "    <tr>\n",
              "      <th>220</th>\n",
              "      <td>1225799</td>\n",
              "      <td>10</td>\n",
              "      <td>6</td>\n",
              "      <td>4</td>\n",
              "      <td>3</td>\n",
              "      <td>10</td>\n",
              "      <td>10</td>\n",
              "      <td>9</td>\n",
              "      <td>10</td>\n",
              "      <td>1</td>\n",
              "    </tr>\n",
              "    <tr>\n",
              "      <th>559</th>\n",
              "      <td>1321942</td>\n",
              "      <td>5</td>\n",
              "      <td>1</td>\n",
              "      <td>1</td>\n",
              "      <td>1</td>\n",
              "      <td>2</td>\n",
              "      <td>1</td>\n",
              "      <td>3</td>\n",
              "      <td>1</td>\n",
              "      <td>1</td>\n",
              "    </tr>\n",
              "    <tr>\n",
              "      <th>544</th>\n",
              "      <td>1197527</td>\n",
              "      <td>5</td>\n",
              "      <td>1</td>\n",
              "      <td>1</td>\n",
              "      <td>1</td>\n",
              "      <td>2</td>\n",
              "      <td>1</td>\n",
              "      <td>2</td>\n",
              "      <td>1</td>\n",
              "      <td>1</td>\n",
              "    </tr>\n",
              "    <tr>\n",
              "      <th>...</th>\n",
              "      <td>...</td>\n",
              "      <td>...</td>\n",
              "      <td>...</td>\n",
              "      <td>...</td>\n",
              "      <td>...</td>\n",
              "      <td>...</td>\n",
              "      <td>...</td>\n",
              "      <td>...</td>\n",
              "      <td>...</td>\n",
              "      <td>...</td>\n",
              "    </tr>\n",
              "    <tr>\n",
              "      <th>71</th>\n",
              "      <td>1124651</td>\n",
              "      <td>1</td>\n",
              "      <td>3</td>\n",
              "      <td>3</td>\n",
              "      <td>2</td>\n",
              "      <td>2</td>\n",
              "      <td>1</td>\n",
              "      <td>7</td>\n",
              "      <td>2</td>\n",
              "      <td>1</td>\n",
              "    </tr>\n",
              "    <tr>\n",
              "      <th>106</th>\n",
              "      <td>1170420</td>\n",
              "      <td>1</td>\n",
              "      <td>6</td>\n",
              "      <td>8</td>\n",
              "      <td>10</td>\n",
              "      <td>8</td>\n",
              "      <td>10</td>\n",
              "      <td>5</td>\n",
              "      <td>7</td>\n",
              "      <td>1</td>\n",
              "    </tr>\n",
              "    <tr>\n",
              "      <th>270</th>\n",
              "      <td>411453</td>\n",
              "      <td>5</td>\n",
              "      <td>1</td>\n",
              "      <td>1</td>\n",
              "      <td>1</td>\n",
              "      <td>2</td>\n",
              "      <td>1</td>\n",
              "      <td>3</td>\n",
              "      <td>1</td>\n",
              "      <td>1</td>\n",
              "    </tr>\n",
              "    <tr>\n",
              "      <th>435</th>\n",
              "      <td>1295186</td>\n",
              "      <td>10</td>\n",
              "      <td>10</td>\n",
              "      <td>10</td>\n",
              "      <td>1</td>\n",
              "      <td>6</td>\n",
              "      <td>1</td>\n",
              "      <td>2</td>\n",
              "      <td>8</td>\n",
              "      <td>1</td>\n",
              "    </tr>\n",
              "    <tr>\n",
              "      <th>102</th>\n",
              "      <td>1168359</td>\n",
              "      <td>8</td>\n",
              "      <td>2</td>\n",
              "      <td>3</td>\n",
              "      <td>1</td>\n",
              "      <td>6</td>\n",
              "      <td>3</td>\n",
              "      <td>7</td>\n",
              "      <td>1</td>\n",
              "      <td>1</td>\n",
              "    </tr>\n",
              "  </tbody>\n",
              "</table>\n",
              "<p>558 rows × 10 columns</p>\n",
              "</div>"
            ],
            "text/plain": [
              "     Sample Code Number  Clump Thickness  ...  Normal Nucleoli  Mitoses\n",
              "82              1147044                3  ...                1        1\n",
              "51              1110102               10  ...               10        2\n",
              "220             1225799               10  ...               10        1\n",
              "559             1321942                5  ...                1        1\n",
              "544             1197527                5  ...                1        1\n",
              "..                  ...              ...  ...              ...      ...\n",
              "71              1124651                1  ...                2        1\n",
              "106             1170420                1  ...                7        1\n",
              "270              411453                5  ...                1        1\n",
              "435             1295186               10  ...                8        1\n",
              "102             1168359                8  ...                1        1\n",
              "\n",
              "[558 rows x 10 columns]"
            ]
          },
          "metadata": {
            "tags": []
          },
          "execution_count": 38
        }
      ]
    },
    {
      "cell_type": "code",
      "metadata": {
        "colab": {
          "base_uri": "https://localhost:8080/"
        },
        "id": "SahJ50qpXLfN",
        "outputId": "b69e732a-e3da-4077-8569-b39429a22b6c"
      },
      "source": [
        "y_train"
      ],
      "id": "SahJ50qpXLfN",
      "execution_count": 39,
      "outputs": [
        {
          "output_type": "execute_result",
          "data": {
            "text/plain": [
              "82     0\n",
              "51     1\n",
              "220    1\n",
              "559    0\n",
              "544    0\n",
              "      ..\n",
              "71     0\n",
              "106    1\n",
              "270    1\n",
              "435    1\n",
              "102    1\n",
              "Name: Class, Length: 558, dtype: int64"
            ]
          },
          "metadata": {
            "tags": []
          },
          "execution_count": 39
        }
      ]
    },
    {
      "cell_type": "markdown",
      "metadata": {
        "id": "En_viQAtXLfN"
      },
      "source": [
        "\n",
        "Now we have got our data split into training and test sets, it's time to build a machine learning model.\n",
        "\n",
        "We will train it(find a patterns) on the training sets. \n",
        "\n",
        "And we will test it(using the patterns) on the test sets.\n",
        "\n",
        "We are going to try 4 different machine learning models:\n",
        "1. Logistice Regression\n",
        "2. K-Nearest Neighbours Classifier\n",
        "3. Random Forest Classifier\n",
        "4. Naive Bayes\n"
      ],
      "id": "En_viQAtXLfN"
    },
    {
      "cell_type": "code",
      "metadata": {
        "id": "HSS25fA3XLfO"
      },
      "source": [
        "# Put models into dictionary \n",
        "\n",
        "models = {\"Logistic Regression\":LogisticRegression(),\n",
        "          \"KNN\":KNeighborsClassifier(),\n",
        "          \"Random Forest\":RandomForestClassifier(),\n",
        "          \"Naive Bayes\":GaussianNB()}\n",
        "\n",
        "# Create a function to fit and score models\n",
        "def fit_and_score(models, X_train, X_test, y_train, y_test): \n",
        "    \"\"\"\n",
        "    Fits and evaluates given machine learning models.\n",
        "    models: a dict of different Scikit-Learn machine learning models\n",
        "    X_train: training data(with no labels)\n",
        "    X_test: testing data(with no labels)\n",
        "    y_train: training labels\n",
        "    y_test: testing labels\n",
        "    \"\"\"\n",
        "    \n",
        "    #set random seed\n",
        "    np.random.seed(42)\n",
        "\n",
        "    # Making a dictionary to keep model scoresS\n",
        "    model_scores = {}\n",
        "\n",
        "    # Loop through models\n",
        "    for name, model in models.items():\n",
        "        # Fit the model to the data\n",
        "        model.fit(X_train, y_train)\n",
        "\n",
        "        #Evaluate the model and  append  it's score to model_scores\n",
        "        model_scores[name] = model.score(X_test, y_test)\n",
        "    return model_scores"
      ],
      "id": "HSS25fA3XLfO",
      "execution_count": 40,
      "outputs": []
    },
    {
      "cell_type": "code",
      "metadata": {
        "id": "nqgVJROcXLfO"
      },
      "source": [
        "model_scores = fit_and_score(models=models,\n",
        "                             X_train=X_train,\n",
        "                             X_test=X_test,\n",
        "                             y_train=y_train,\n",
        "                             y_test=y_test)"
      ],
      "id": "nqgVJROcXLfO",
      "execution_count": 41,
      "outputs": []
    },
    {
      "cell_type": "code",
      "metadata": {
        "colab": {
          "base_uri": "https://localhost:8080/"
        },
        "id": "w_koznP5XLfO",
        "outputId": "3d6189c1-eb69-4344-c532-409de07915ef"
      },
      "source": [
        "model_scores"
      ],
      "id": "w_koznP5XLfO",
      "execution_count": 42,
      "outputs": [
        {
          "output_type": "execute_result",
          "data": {
            "text/plain": [
              "{'KNN': 0.65,\n",
              " 'Logistic Regression': 0.6428571428571429,\n",
              " 'Naive Bayes': 0.8714285714285714,\n",
              " 'Random Forest': 0.9571428571428572}"
            ]
          },
          "metadata": {
            "tags": []
          },
          "execution_count": 42
        }
      ]
    },
    {
      "cell_type": "markdown",
      "metadata": {
        "id": "L9iXGoyqXLfP"
      },
      "source": [
        "## Model Comparison"
      ],
      "id": "L9iXGoyqXLfP"
    },
    {
      "cell_type": "code",
      "metadata": {
        "colab": {
          "base_uri": "https://localhost:8080/",
          "height": 285
        },
        "id": "ex3tKsDRXLfP",
        "outputId": "63e6a2f6-c61f-4560-a73f-02ebbc80581f"
      },
      "source": [
        "model_compare = pd.DataFrame(model_scores, index=[\"accuracy\"])\n",
        "model_compare.T.plot.bar()\n",
        "\n",
        "plt.xticks(rotation=0)"
      ],
      "id": "ex3tKsDRXLfP",
      "execution_count": 43,
      "outputs": [
        {
          "output_type": "execute_result",
          "data": {
            "text/plain": [
              "(array([0, 1, 2, 3]), <a list of 4 Text major ticklabel objects>)"
            ]
          },
          "metadata": {
            "tags": []
          },
          "execution_count": 43
        },
        {
          "output_type": "display_data",
          "data": {
            "image/png": "[encoded data removed]",
            "text/plain": [
              "<Figure size 432x288 with 1 Axes>"
            ]
          },
          "metadata": {
            "tags": [],
            "needs_background": "light"
          }
        }
      ]
    },
    {
      "cell_type": "markdown",
      "metadata": {
        "id": "3aqmgWJsXLfP"
      },
      "source": [
        "\n",
        "Now we've got a baseline model...  and we know a model's first prediction aren't always what we should based our next steps off. What should we do ?\n",
        "\n",
        "Let's look at the following:\n",
        "1. Hyperparameter tuning  # part of all machine learning models\n",
        "2. Features importance    # part with all\n",
        "3. Confusion Matrix       #from 3 to 10 concerned with Classification model \n",
        "4. Cross-Validation\n",
        "5. Precision \n",
        "6. Recall\n",
        "7. F1 score\n",
        "8. Classification report \n",
        "9. ROC curve \n",
        "10. Area under the curve (AUC) \n",
        "\n",
        "## Hyperparameter Tuning(manually)"
      ],
      "id": "3aqmgWJsXLfP"
    },
    {
      "cell_type": "code",
      "metadata": {
        "id": "f0xcEt93XLfP"
      },
      "source": [
        "#Let's tune KNN\n",
        "\n",
        "train_scores = []\n",
        "test_scores = []\n",
        "\n",
        "# Creates a list of different values for n_neighbors\n",
        "neighbors = range(1,21)\n",
        "\n",
        "#Setup KNN instance\n",
        "knn = KNeighborsClassifier()\n",
        "\n",
        "#Loop through different n_neighbors\n",
        "for i in neighbors:\n",
        "    knn.set_params(n_neighbors=i)\n",
        "    \n",
        "    #Fit the algorithm\n",
        "    knn.fit(X_train, y_train)\n",
        "    \n",
        "    #Update the training scores list\n",
        "    train_scores.append(knn.score(X_train, y_train))\n",
        "    \n",
        "    #Update the test scores list\n",
        "    test_scores.append(knn.score(X_test, y_test))\n",
        "    "
      ],
      "id": "f0xcEt93XLfP",
      "execution_count": 44,
      "outputs": []
    },
    {
      "cell_type": "code",
      "metadata": {
        "colab": {
          "base_uri": "https://localhost:8080/"
        },
        "id": "zl02C6vIXLfP",
        "outputId": "ba6f39aa-2d15-444f-c7e9-4c08083874c0"
      },
      "source": [
        "train_scores"
      ],
      "id": "zl02C6vIXLfP",
      "execution_count": 45,
      "outputs": [
        {
          "output_type": "execute_result",
          "data": {
            "text/plain": [
              "[1.0,\n",
              " 0.8100358422939068,\n",
              " 0.7849462365591398,\n",
              " 0.7365591397849462,\n",
              " 0.7311827956989247,\n",
              " 0.7078853046594982,\n",
              " 0.7060931899641577,\n",
              " 0.7060931899641577,\n",
              " 0.7096774193548387,\n",
              " 0.7060931899641577,\n",
              " 0.6935483870967742,\n",
              " 0.6917562724014337,\n",
              " 0.6935483870967742,\n",
              " 0.6953405017921147,\n",
              " 0.6971326164874552,\n",
              " 0.7060931899641577,\n",
              " 0.7025089605734767,\n",
              " 0.6953405017921147,\n",
              " 0.6935483870967742,\n",
              " 0.6917562724014337]"
            ]
          },
          "metadata": {
            "tags": []
          },
          "execution_count": 45
        }
      ]
    },
    {
      "cell_type": "code",
      "metadata": {
        "colab": {
          "base_uri": "https://localhost:8080/"
        },
        "id": "3-1r1R8nXLfQ",
        "outputId": "53c437b0-1f14-4888-d013-4757ce8541d8"
      },
      "source": [
        "test_scores"
      ],
      "id": "3-1r1R8nXLfQ",
      "execution_count": 46,
      "outputs": [
        {
          "output_type": "execute_result",
          "data": {
            "text/plain": [
              "[0.6285714285714286,\n",
              " 0.6571428571428571,\n",
              " 0.6285714285714286,\n",
              " 0.6714285714285714,\n",
              " 0.65,\n",
              " 0.6428571428571429,\n",
              " 0.5928571428571429,\n",
              " 0.6357142857142857,\n",
              " 0.6071428571428571,\n",
              " 0.6214285714285714,\n",
              " 0.6571428571428571,\n",
              " 0.6571428571428571,\n",
              " 0.6357142857142857,\n",
              " 0.6428571428571429,\n",
              " 0.6357142857142857,\n",
              " 0.6357142857142857,\n",
              " 0.6285714285714286,\n",
              " 0.6285714285714286,\n",
              " 0.6285714285714286,\n",
              " 0.6285714285714286]"
            ]
          },
          "metadata": {
            "tags": []
          },
          "execution_count": 46
        }
      ]
    },
    {
      "cell_type": "code",
      "metadata": {
        "colab": {
          "base_uri": "https://localhost:8080/",
          "height": 296
        },
        "id": "rentUvMEXLfQ",
        "outputId": "b023fb9b-bdf9-4a30-b4a6-059fb1ec5428"
      },
      "source": [
        "plt.plot(neighbors, train_scores, label=[\"Train scores\"])\n",
        "plt.plot(neighbors, test_scores, label=[\"Test Scores\"])\n",
        "\n",
        "plt.xticks(np.arange(1,21,1))\n",
        "plt.xlabel(\"Number of neighbors\")\n",
        "plt.ylabel(\"Model scores\")\n",
        "plt.legend()\n",
        "\n",
        "print(f\"Maximum KNN score on the test data: {max(test_scores)*100:.2f}%\")"
      ],
      "id": "rentUvMEXLfQ",
      "execution_count": 47,
      "outputs": [
        {
          "output_type": "stream",
          "text": [
            "Maximum KNN score on the test data: 67.14%\n"
          ],
          "name": "stdout"
        },
        {
          "output_type": "display_data",
          "data": {
            "image/png": "[encoded data removed]",
            "text/plain": [
              "<Figure size 432x288 with 1 Axes>"
            ]
          },
          "metadata": {
            "tags": [],
            "needs_background": "light"
          }
        }
      ]
    },
    {
      "cell_type": "markdown",
      "metadata": {
        "id": "UwIAvZaLXLfQ"
      },
      "source": [
        "## Hyperparameter tuning with RandomizedSearchCV (CV= Cross Validated)"
      ],
      "id": "UwIAvZaLXLfQ"
    },
    {
      "cell_type": "markdown",
      "metadata": {
        "id": "vtM_rY7HXLfQ"
      },
      "source": [
        "We will be tuning \n",
        "\n",
        "    1. LogisticeRegression()\n",
        "    2. RandomForestClassifier()\n",
        "    3. GaussianNB() \n",
        "   using RandomizedSearchCV"
      ],
      "id": "vtM_rY7HXLfQ"
    },
    {
      "cell_type": "code",
      "metadata": {
        "id": "TGwziplPeUIw"
      },
      "source": [
        "# Create hyperparameter grid for LogisticRegression\n",
        "log_reg_grid = {\"C\":np.logspace(-4,4,20),\n",
        "                \"solver\":['liblinear']}\n",
        "\n",
        "#Create a hyperparameter grid for RandomForestClassifier\n",
        "rf_grid = {\"n_estimators\":np.arange(10,80,8),\n",
        "           \"max_depth\":[None,3,5,10],\n",
        "           \"min_samples_split\":np.arange(2,10,2),\n",
        "           \"min_samples_leaf\":np.arange(1,10,2)}\n",
        "\n",
        "# Create hyperparameter grid for Naive Bayes\n",
        "param_NB = {\"var_smoothing\":np.logspace(0,-9,100)}"
      ],
      "id": "TGwziplPeUIw",
      "execution_count": 48,
      "outputs": []
    },
    {
      "cell_type": "markdown",
      "metadata": {
        "id": "ur8ldd6rlhGl"
      },
      "source": [
        "Now we have got hyperparameter grids setup for each of our models,let's tune them using RandomizedSearchCV."
      ],
      "id": "ur8ldd6rlhGl"
    },
    {
      "cell_type": "code",
      "metadata": {
        "colab": {
          "base_uri": "https://localhost:8080/"
        },
        "id": "mH8V7GWFej0k",
        "outputId": "5314c5c9-5245-42bd-f248-c09a927b2114"
      },
      "source": [
        "# Tune LogisticRegression \n",
        "\n",
        "np.random.seed(42)\n",
        "\n",
        "# Setup random hyperparameter search for LogisticRegression\n",
        "rs_log_reg = RandomizedSearchCV(LogisticRegression(),\n",
        "                                param_distributions=log_reg_grid,\n",
        "                                cv=5,\n",
        "                                n_iter=20,\n",
        "                                verbose=True)\n",
        "\n",
        "#Fit random hyperparameter search model for LogisticRegression \n",
        "rs_log_reg.fit(X_train,y_train)\n"
      ],
      "id": "mH8V7GWFej0k",
      "execution_count": 49,
      "outputs": [
        {
          "output_type": "stream",
          "text": [
            "Fitting 5 folds for each of 20 candidates, totalling 100 fits\n"
          ],
          "name": "stdout"
        },
        {
          "output_type": "stream",
          "text": [
            "[Parallel(n_jobs=1)]: Using backend SequentialBackend with 1 concurrent workers.\n",
            "[Parallel(n_jobs=1)]: Done 100 out of 100 | elapsed:    0.3s finished\n"
          ],
          "name": "stderr"
        },
        {
          "output_type": "execute_result",
          "data": {
            "text/plain": [
              "RandomizedSearchCV(cv=5, error_score=nan,\n",
              "                   estimator=LogisticRegression(C=1.0, class_weight=None,\n",
              "                                                dual=False, fit_intercept=True,\n",
              "                                                intercept_scaling=1,\n",
              "                                                l1_ratio=None, max_iter=100,\n",
              "                                                multi_class='auto', n_jobs=None,\n",
              "                                                penalty='l2', random_state=None,\n",
              "                                                solver='lbfgs', tol=0.0001,\n",
              "                                                verbose=0, warm_start=False),\n",
              "                   iid='deprecated', n_iter=20, n_jobs=None,\n",
              "                   param_distributions={'C':...\n",
              "       4.83293024e-03, 1.27427499e-02, 3.35981829e-02, 8.85866790e-02,\n",
              "       2.33572147e-01, 6.15848211e-01, 1.62377674e+00, 4.28133240e+00,\n",
              "       1.12883789e+01, 2.97635144e+01, 7.84759970e+01, 2.06913808e+02,\n",
              "       5.45559478e+02, 1.43844989e+03, 3.79269019e+03, 1.00000000e+04]),\n",
              "                                        'solver': ['liblinear']},\n",
              "                   pre_dispatch='2*n_jobs', random_state=None, refit=True,\n",
              "                   return_train_score=False, scoring=None, verbose=True)"
            ]
          },
          "metadata": {
            "tags": []
          },
          "execution_count": 49
        }
      ]
    },
    {
      "cell_type": "code",
      "metadata": {
        "colab": {
          "base_uri": "https://localhost:8080/"
        },
        "id": "iR6xgb14l1Zr",
        "outputId": "0143fbd5-6191-46c6-95e8-12692a76fe2b"
      },
      "source": [
        "# Find the best parameters\n",
        "rs_log_reg.best_params_"
      ],
      "id": "iR6xgb14l1Zr",
      "execution_count": 50,
      "outputs": [
        {
          "output_type": "execute_result",
          "data": {
            "text/plain": [
              "{'C': 0.0001, 'solver': 'liblinear'}"
            ]
          },
          "metadata": {
            "tags": []
          },
          "execution_count": 50
        }
      ]
    },
    {
      "cell_type": "code",
      "metadata": {
        "colab": {
          "base_uri": "https://localhost:8080/"
        },
        "id": "MqebYUv-yeBM",
        "outputId": "c5dd5b42-07af-471f-b739-ec1bf5fe52d7"
      },
      "source": [
        "# Evaluate the randomized search LogisticRegression Model\n",
        "rs_log_reg.score(X_test, y_test)"
      ],
      "id": "MqebYUv-yeBM",
      "execution_count": 51,
      "outputs": [
        {
          "output_type": "execute_result",
          "data": {
            "text/plain": [
              "0.6428571428571429"
            ]
          },
          "metadata": {
            "tags": []
          },
          "execution_count": 51
        }
      ]
    },
    {
      "cell_type": "markdown",
      "metadata": {
        "id": "4mTPhs4RzOr4"
      },
      "source": [
        "Now we've tuned LogisticeRegression(), let's do the same for RandomForestClassifier(). "
      ],
      "id": "4mTPhs4RzOr4"
    },
    {
      "cell_type": "code",
      "metadata": {
        "colab": {
          "base_uri": "https://localhost:8080/"
        },
        "id": "z_k477Diy--0",
        "outputId": "12723608-8503-4137-a03e-f0c227911938"
      },
      "source": [
        "# Tuning RandomForestClassifier\n",
        "\n",
        "# Setup random seed\n",
        "np.random.seed(42)\n",
        "\n",
        "#Setup random hyperparameter search for RandomForestClassifier\n",
        "rs_rf = RandomizedSearchCV(RandomForestClassifier(),\n",
        "                           param_distributions=rf_grid,\n",
        "                           cv=3,\n",
        "                           n_iter=20,\n",
        "                           verbose=True)\n",
        "\n",
        "#Fit random hyperparameter search model for RandomForestClassifier\n",
        "rs_rf.fit(X_train, y_train)"
      ],
      "id": "z_k477Diy--0",
      "execution_count": 52,
      "outputs": [
        {
          "output_type": "stream",
          "text": [
            "Fitting 3 folds for each of 20 candidates, totalling 60 fits\n"
          ],
          "name": "stdout"
        },
        {
          "output_type": "stream",
          "text": [
            "[Parallel(n_jobs=1)]: Using backend SequentialBackend with 1 concurrent workers.\n",
            "[Parallel(n_jobs=1)]: Done  60 out of  60 | elapsed:    3.9s finished\n"
          ],
          "name": "stderr"
        },
        {
          "output_type": "execute_result",
          "data": {
            "text/plain": [
              "RandomizedSearchCV(cv=3, error_score=nan,\n",
              "                   estimator=RandomForestClassifier(bootstrap=True,\n",
              "                                                    ccp_alpha=0.0,\n",
              "                                                    class_weight=None,\n",
              "                                                    criterion='gini',\n",
              "                                                    max_depth=None,\n",
              "                                                    max_features='auto',\n",
              "                                                    max_leaf_nodes=None,\n",
              "                                                    max_samples=None,\n",
              "                                                    min_impurity_decrease=0.0,\n",
              "                                                    min_impurity_split=None,\n",
              "                                                    min_samples_leaf=1,\n",
              "                                                    min_samples_split=2,\n",
              "                                                    min_weight_fraction_leaf=0.0,\n",
              "                                                    n_estimators=100,\n",
              "                                                    n_jobs...\n",
              "                                                    random_state=None,\n",
              "                                                    verbose=0,\n",
              "                                                    warm_start=False),\n",
              "                   iid='deprecated', n_iter=20, n_jobs=None,\n",
              "                   param_distributions={'max_depth': [None, 3, 5, 10],\n",
              "                                        'min_samples_leaf': array([1, 3, 5, 7, 9]),\n",
              "                                        'min_samples_split': array([2, 4, 6, 8]),\n",
              "                                        'n_estimators': array([10, 18, 26, 34, 42, 50, 58, 66, 74])},\n",
              "                   pre_dispatch='2*n_jobs', random_state=None, refit=True,\n",
              "                   return_train_score=False, scoring=None, verbose=True)"
            ]
          },
          "metadata": {
            "tags": []
          },
          "execution_count": 52
        }
      ]
    },
    {
      "cell_type": "code",
      "metadata": {
        "colab": {
          "base_uri": "https://localhost:8080/"
        },
        "id": "kqw-aE-E0rJv",
        "outputId": "46b3e8d4-1c13-4515-a426-15fdf4d56d20"
      },
      "source": [
        "#Find the best hyperparameters\n",
        "rs_rf.best_params_"
      ],
      "id": "kqw-aE-E0rJv",
      "execution_count": 53,
      "outputs": [
        {
          "output_type": "execute_result",
          "data": {
            "text/plain": [
              "{'max_depth': None,\n",
              " 'min_samples_leaf': 5,\n",
              " 'min_samples_split': 8,\n",
              " 'n_estimators': 26}"
            ]
          },
          "metadata": {
            "tags": []
          },
          "execution_count": 53
        }
      ]
    },
    {
      "cell_type": "code",
      "metadata": {
        "colab": {
          "base_uri": "https://localhost:8080/"
        },
        "id": "yVTMBAI21uUc",
        "outputId": "bb69c49b-3951-4897-9ad2-66a359bd30ff"
      },
      "source": [
        "#Evaluate the randomized search RandomForestClassifier\n",
        "rs_rf.score(X_test,y_test)"
      ],
      "id": "yVTMBAI21uUc",
      "execution_count": 54,
      "outputs": [
        {
          "output_type": "execute_result",
          "data": {
            "text/plain": [
              "0.95"
            ]
          },
          "metadata": {
            "tags": []
          },
          "execution_count": 54
        }
      ]
    },
    {
      "cell_type": "markdown",
      "metadata": {
        "id": "4ifwVpTS33k-"
      },
      "source": [
        "Tuning the last model Naive Bayes"
      ],
      "id": "4ifwVpTS33k-"
    },
    {
      "cell_type": "code",
      "metadata": {
        "colab": {
          "base_uri": "https://localhost:8080/"
        },
        "id": "Ob-hq9L611ZI",
        "outputId": "7bb103a0-dce5-45b0-94b6-19fd9e5dde42"
      },
      "source": [
        "#Tuning Naive Bayes\n",
        "\n",
        "#Setup the random seed\n",
        "np.random.seed(42)\n",
        "\n",
        "#Setup the random hyperparameter search for NaiveBayed\n",
        "rs_nb = RandomizedSearchCV(GaussianNB(),\n",
        "                           param_distributions=param_NB,\n",
        "                           cv=5,\n",
        "                           n_iter=100,\n",
        "                           verbose=True)\n",
        "\n",
        "#Fit random hyperparameter search model for NaiveBayes\n",
        "rs_nb.fit(X_train, y_train)"
      ],
      "id": "Ob-hq9L611ZI",
      "execution_count": 55,
      "outputs": [
        {
          "output_type": "stream",
          "text": [
            "Fitting 5 folds for each of 100 candidates, totalling 500 fits\n"
          ],
          "name": "stdout"
        },
        {
          "output_type": "stream",
          "text": [
            "[Parallel(n_jobs=1)]: Using backend SequentialBackend with 1 concurrent workers.\n",
            "[Parallel(n_jobs=1)]: Done 500 out of 500 | elapsed:    1.6s finished\n"
          ],
          "name": "stderr"
        },
        {
          "output_type": "execute_result",
          "data": {
            "text/plain": [
              "RandomizedSearchCV(cv=5, error_score=nan,\n",
              "                   estimator=GaussianNB(priors=None, var_smoothing=1e-09),\n",
              "                   iid='deprecated', n_iter=100, n_jobs=None,\n",
              "                   param_distributions={'var_smoothing': array([1.00000000e+00, 8.11130831e-01, 6.57933225e-01, 5.33669923e-01,\n",
              "       4.32876128e-01, 3.51119173e-01, 2.84803587e-01, 2.31012970e-01,\n",
              "       1.87381742e-01, 1.51991108e-01, 1.23284674e-01, 1.00000...\n",
              "       5.33669923e-08, 4.32876128e-08, 3.51119173e-08, 2.84803587e-08,\n",
              "       2.31012970e-08, 1.87381742e-08, 1.51991108e-08, 1.23284674e-08,\n",
              "       1.00000000e-08, 8.11130831e-09, 6.57933225e-09, 5.33669923e-09,\n",
              "       4.32876128e-09, 3.51119173e-09, 2.84803587e-09, 2.31012970e-09,\n",
              "       1.87381742e-09, 1.51991108e-09, 1.23284674e-09, 1.00000000e-09])},\n",
              "                   pre_dispatch='2*n_jobs', random_state=None, refit=True,\n",
              "                   return_train_score=False, scoring=None, verbose=True)"
            ]
          },
          "metadata": {
            "tags": []
          },
          "execution_count": 55
        }
      ]
    },
    {
      "cell_type": "code",
      "metadata": {
        "colab": {
          "base_uri": "https://localhost:8080/"
        },
        "id": "wPVk6SHN5Kjv",
        "outputId": "a4588209-0b2e-43d7-b936-59aad204af36"
      },
      "source": [
        "#Finding the best hyperparameters\n",
        "rs_nb.best_params_"
      ],
      "id": "wPVk6SHN5Kjv",
      "execution_count": 56,
      "outputs": [
        {
          "output_type": "execute_result",
          "data": {
            "text/plain": [
              "{'var_smoothing': 1e-09}"
            ]
          },
          "metadata": {
            "tags": []
          },
          "execution_count": 56
        }
      ]
    },
    {
      "cell_type": "code",
      "metadata": {
        "colab": {
          "base_uri": "https://localhost:8080/"
        },
        "id": "4bMKzpg152_Q",
        "outputId": "1cbe0beb-f621-44d3-cdb0-9f8427ad0c4e"
      },
      "source": [
        "#Evaluate the randomized search for Naive Bayes\n",
        "rs_nb.score(X_test,y_test)"
      ],
      "id": "4bMKzpg152_Q",
      "execution_count": 57,
      "outputs": [
        {
          "output_type": "execute_result",
          "data": {
            "text/plain": [
              "0.8714285714285714"
            ]
          },
          "metadata": {
            "tags": []
          },
          "execution_count": 57
        }
      ]
    },
    {
      "cell_type": "code",
      "metadata": {
        "colab": {
          "base_uri": "https://localhost:8080/"
        },
        "id": "nh8N5Ni16DLV",
        "outputId": "f4872020-c4ea-4f4d-d646-86dedbb996e5"
      },
      "source": [
        "model_scores"
      ],
      "id": "nh8N5Ni16DLV",
      "execution_count": 58,
      "outputs": [
        {
          "output_type": "execute_result",
          "data": {
            "text/plain": [
              "{'KNN': 0.65,\n",
              " 'Logistic Regression': 0.6428571428571429,\n",
              " 'Naive Bayes': 0.8714285714285714,\n",
              " 'Random Forest': 0.9571428571428572}"
            ]
          },
          "metadata": {
            "tags": []
          },
          "execution_count": 58
        }
      ]
    },
    {
      "cell_type": "markdown",
      "metadata": {
        "id": "ErFQ3Nkr9bXF"
      },
      "source": [
        "# Hyperparameter Tuning with GridSearchCV\n",
        "\n",
        "Since our Random Forest model provides the best score so far, we'll try and improve them again using GridSearchCV"
      ],
      "id": "ErFQ3Nkr9bXF"
    },
    {
      "cell_type": "code",
      "metadata": {
        "id": "EASJkbB49j4W",
        "colab": {
          "base_uri": "https://localhost:8080/"
        },
        "outputId": "71d6d451-2aeb-4772-be71-f0cc5d5ab1d5"
      },
      "source": [
        "#Different hyperparameter for our RandomForestClassifier model\n",
        "rf_grid = {\"n_estimators\":np.arange(10,80,8),\n",
        "           \"max_depth\":[None,3,5,10],\n",
        "           \"min_samples_split\":np.arange(2,10,2),\n",
        "           \"min_samples_leaf\":np.arange(1,10,2)}\n",
        "\n",
        "#Setup grid hyperparameter search for RandomForestClassifier\n",
        "\n",
        "np.random.seed(42)\n",
        "\n",
        "gs_rf = GridSearchCV(RandomForestClassifier(),\n",
        "                           param_grid=rf_grid,\n",
        "                           cv=2,\n",
        "                           verbose=True,\n",
        "                           n_jobs=4)\n",
        "#Fit grid hyperparameter search model for RandomForestClassifer\n",
        "gs_rf.fit(X_train, y_train)"
      ],
      "id": "EASJkbB49j4W",
      "execution_count": 59,
      "outputs": [
        {
          "output_type": "stream",
          "text": [
            "Fitting 2 folds for each of 720 candidates, totalling 1440 fits\n"
          ],
          "name": "stdout"
        },
        {
          "output_type": "stream",
          "text": [
            "[Parallel(n_jobs=4)]: Using backend LokyBackend with 4 concurrent workers.\n",
            "[Parallel(n_jobs=4)]: Done  42 tasks      | elapsed:    5.1s\n",
            "[Parallel(n_jobs=4)]: Done 192 tasks      | elapsed:   14.5s\n",
            "[Parallel(n_jobs=4)]: Done 442 tasks      | elapsed:   30.1s\n",
            "[Parallel(n_jobs=4)]: Done 792 tasks      | elapsed:   51.9s\n",
            "[Parallel(n_jobs=4)]: Done 1242 tasks      | elapsed:  1.3min\n",
            "[Parallel(n_jobs=4)]: Done 1440 out of 1440 | elapsed:  1.5min finished\n"
          ],
          "name": "stderr"
        },
        {
          "output_type": "execute_result",
          "data": {
            "text/plain": [
              "GridSearchCV(cv=2, error_score=nan,\n",
              "             estimator=RandomForestClassifier(bootstrap=True, ccp_alpha=0.0,\n",
              "                                              class_weight=None,\n",
              "                                              criterion='gini', max_depth=None,\n",
              "                                              max_features='auto',\n",
              "                                              max_leaf_nodes=None,\n",
              "                                              max_samples=None,\n",
              "                                              min_impurity_decrease=0.0,\n",
              "                                              min_impurity_split=None,\n",
              "                                              min_samples_leaf=1,\n",
              "                                              min_samples_split=2,\n",
              "                                              min_weight_fraction_leaf=0.0,\n",
              "                                              n_estimators=100, n_jobs=None,\n",
              "                                              oob_score=False,\n",
              "                                              random_state=None, verbose=0,\n",
              "                                              warm_start=False),\n",
              "             iid='deprecated', n_jobs=4,\n",
              "             param_grid={'max_depth': [None, 3, 5, 10],\n",
              "                         'min_samples_leaf': array([1, 3, 5, 7, 9]),\n",
              "                         'min_samples_split': array([2, 4, 6, 8]),\n",
              "                         'n_estimators': array([10, 18, 26, 34, 42, 50, 58, 66, 74])},\n",
              "             pre_dispatch='2*n_jobs', refit=True, return_train_score=False,\n",
              "             scoring=None, verbose=True)"
            ]
          },
          "metadata": {
            "tags": []
          },
          "execution_count": 59
        }
      ]
    },
    {
      "cell_type": "code",
      "metadata": {
        "id": "lMqNvdK7AXew",
        "colab": {
          "base_uri": "https://localhost:8080/"
        },
        "outputId": "4e72d29c-dded-4755-8725-4af6c35ea560"
      },
      "source": [
        "#Find the best hyperparameter for RandomForestClassifier\n",
        "gs_rf.best_params_"
      ],
      "id": "lMqNvdK7AXew",
      "execution_count": 60,
      "outputs": [
        {
          "output_type": "execute_result",
          "data": {
            "text/plain": [
              "{'max_depth': 5,\n",
              " 'min_samples_leaf': 9,\n",
              " 'min_samples_split': 2,\n",
              " 'n_estimators': 10}"
            ]
          },
          "metadata": {
            "tags": []
          },
          "execution_count": 60
        }
      ]
    },
    {
      "cell_type": "code",
      "metadata": {
        "id": "C44mTtqsA_hg",
        "colab": {
          "base_uri": "https://localhost:8080/"
        },
        "outputId": "66de8cf5-c696-4f2d-c327-1cc9debf6dd7"
      },
      "source": [
        "#Evaluate the Grid Search RandomForestClassifier\n",
        "gs_rf.score(X_test,y_test)"
      ],
      "id": "C44mTtqsA_hg",
      "execution_count": 61,
      "outputs": [
        {
          "output_type": "execute_result",
          "data": {
            "text/plain": [
              "0.9428571428571428"
            ]
          },
          "metadata": {
            "tags": []
          },
          "execution_count": 61
        }
      ]
    },
    {
      "cell_type": "markdown",
      "metadata": {
        "id": "cc5oF6LhwcVT"
      },
      "source": [
        "# Evaluating our tuned machine learning classifier, beyond accuracy\n",
        "\n",
        "  * ROC curve and AUC curve\n",
        "  * confusion matrix\n",
        "  * classification report\n",
        "  * Precision\n",
        "  * Recall\n",
        "  * F1-score \n",
        "    \n",
        "    and it would be great if cross-validation is used where possible.\n",
        "\n",
        "To make comparisons and evaluate our trained model, first we need to make predictions."
      ],
      "id": "cc5oF6LhwcVT"
    },
    {
      "cell_type": "code",
      "metadata": {
        "id": "f3Y207KFBTEH"
      },
      "source": [
        "# Make predictions with tuned models\n",
        "y_predicts = gs_rf.predict(X_test)"
      ],
      "id": "f3Y207KFBTEH",
      "execution_count": 62,
      "outputs": []
    },
    {
      "cell_type": "code",
      "metadata": {
        "id": "q33yS5Aknxa3",
        "colab": {
          "base_uri": "https://localhost:8080/"
        },
        "outputId": "1669a588-e880-448b-e0af-129fe8268f63"
      },
      "source": [
        "y_predicts"
      ],
      "id": "q33yS5Aknxa3",
      "execution_count": 63,
      "outputs": [
        {
          "output_type": "execute_result",
          "data": {
            "text/plain": [
              "array([1, 0, 0, 0, 0, 1, 0, 0, 0, 1, 0, 1, 1, 0, 0, 1, 0, 0, 1, 1, 1, 1,\n",
              "       1, 0, 1, 0, 0, 1, 0, 1, 0, 0, 0, 0, 0, 0, 0, 1, 0, 0, 1, 1, 1, 0,\n",
              "       0, 0, 0, 1, 0, 1, 0, 0, 0, 0, 0, 0, 0, 1, 0, 0, 1, 0, 1, 0, 0, 1,\n",
              "       0, 1, 0, 0, 0, 1, 0, 0, 0, 0, 0, 0, 0, 1, 1, 0, 0, 1, 1, 1, 0, 0,\n",
              "       0, 0, 0, 1, 0, 0, 1, 0, 0, 0, 1, 1, 0, 0, 0, 0, 0, 0, 1, 0, 0, 1,\n",
              "       1, 0, 0, 0, 0, 1, 0, 0, 1, 1, 1, 0, 0, 0, 0, 1, 0, 1, 1, 1, 1, 0,\n",
              "       1, 1, 1, 0, 0, 0, 1, 1])"
            ]
          },
          "metadata": {
            "tags": []
          },
          "execution_count": 63
        }
      ]
    },
    {
      "cell_type": "code",
      "metadata": {
        "id": "jw4qVghUomk_",
        "colab": {
          "base_uri": "https://localhost:8080/"
        },
        "outputId": "3fa641ee-d54c-4673-85d0-ad36812d77be"
      },
      "source": [
        "y_test"
      ],
      "id": "jw4qVghUomk_",
      "execution_count": 64,
      "outputs": [
        {
          "output_type": "execute_result",
          "data": {
            "text/plain": [
              "158    1\n",
              "499    0\n",
              "396    0\n",
              "155    0\n",
              "321    0\n",
              "      ..\n",
              "24     1\n",
              "218    0\n",
              "431    0\n",
              "281    1\n",
              "110    1\n",
              "Name: Class, Length: 140, dtype: int64"
            ]
          },
          "metadata": {
            "tags": []
          },
          "execution_count": 64
        }
      ]
    },
    {
      "cell_type": "code",
      "metadata": {
        "id": "qBjDoZU5opkJ",
        "colab": {
          "base_uri": "https://localhost:8080/",
          "height": 296
        },
        "outputId": "8bf5dbfe-bbab-43a1-f4f6-aeb0d119b53e"
      },
      "source": [
        "# Plot ROC curve and calculate the AUC(area under curve) metric\n",
        "plot_roc_curve(gs_rf, X_test, y_test)"
      ],
      "id": "qBjDoZU5opkJ",
      "execution_count": 65,
      "outputs": [
        {
          "output_type": "execute_result",
          "data": {
            "text/plain": [
              "<sklearn.metrics._plot.roc_curve.RocCurveDisplay at 0x7fc142445110>"
            ]
          },
          "metadata": {
            "tags": []
          },
          "execution_count": 65
        },
        {
          "output_type": "display_data",
          "data": {
            "image/png": "[encoded data removed]",
            "text/plain": [
              "<Figure size 432x288 with 1 Axes>"
            ]
          },
          "metadata": {
            "tags": [],
            "needs_background": "light"
          }
        }
      ]
    },
    {
      "cell_type": "code",
      "metadata": {
        "id": "uaGNm_H5sWDM",
        "colab": {
          "base_uri": "https://localhost:8080/"
        },
        "outputId": "b7dc5a51-98df-472f-81ce-2d6ff60a798b"
      },
      "source": [
        "#Confusion Matrix\n",
        "print(confusion_matrix(y_test, y_predicts))"
      ],
      "id": "uaGNm_H5sWDM",
      "execution_count": 66,
      "outputs": [
        {
          "output_type": "stream",
          "text": [
            "[[85  5]\n",
            " [ 3 47]]\n"
          ],
          "name": "stdout"
        }
      ]
    },
    {
      "cell_type": "code",
      "metadata": {
        "id": "kemeU6AZqVMT",
        "colab": {
          "base_uri": "https://localhost:8080/",
          "height": 243
        },
        "outputId": "6eb1ed48-2ba4-4cde-dc67-bd428ca23e4f"
      },
      "source": [
        "sns.set(font_scale=1.5)\n",
        "\n",
        "def plot_conf_mat(y_test, y_predicts):\n",
        "  \"\"\"\n",
        "  Plot a confusion matrix using Seaborn's heatmap()\n",
        "  \"\"\"\n",
        "  fig, ax = plt.subplots(figsize=(3,3))\n",
        "  ax = sns.heatmap(confusion_matrix(y_test,y_predicts),\n",
        "                  annot=True,\n",
        "                   cbar=False)\n",
        "  plt.xlabel(\"True label\")\n",
        "  plt.ylabel(\"Predicted label\")\n",
        "\n",
        "plot_conf_mat(y_test, y_predicts)"
      ],
      "id": "kemeU6AZqVMT",
      "execution_count": 67,
      "outputs": [
        {
          "output_type": "display_data",
          "data": {
            "image/png": "[encoded data removed]",
            "text/plain": [
              "<Figure size 216x216 with 1 Axes>"
            ]
          },
          "metadata": {
            "tags": []
          }
        }
      ]
    },
    {
      "cell_type": "markdown",
      "metadata": {
        "id": "rfmrCr0cWSzG"
      },
      "source": [
        "We have ROC, an AUC metric and a confusion matrix. Now let's get a classification report as well as cross-validated precision, recall and f1-score."
      ],
      "id": "rfmrCr0cWSzG"
    },
    {
      "cell_type": "code",
      "metadata": {
        "id": "dMZ5IdckWzbp",
        "colab": {
          "base_uri": "https://localhost:8080/"
        },
        "outputId": "02badd4b-153e-4042-a629-20fb35159b45"
      },
      "source": [
        "print(classification_report(y_test, y_predicts))"
      ],
      "id": "dMZ5IdckWzbp",
      "execution_count": 68,
      "outputs": [
        {
          "output_type": "stream",
          "text": [
            "              precision    recall  f1-score   support\n",
            "\n",
            "           0       0.97      0.94      0.96        90\n",
            "           1       0.90      0.94      0.92        50\n",
            "\n",
            "    accuracy                           0.94       140\n",
            "   macro avg       0.93      0.94      0.94       140\n",
            "weighted avg       0.94      0.94      0.94       140\n",
            "\n"
          ],
          "name": "stdout"
        }
      ]
    },
    {
      "cell_type": "code",
      "metadata": {
        "id": "QehLtKTyuLbs"
      },
      "source": [
        ""
      ],
      "id": "QehLtKTyuLbs",
      "execution_count": null,
      "outputs": []
    }
  ]
}